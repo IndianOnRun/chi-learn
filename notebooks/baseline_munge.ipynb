{
 "metadata": {
  "name": ""
 },
 "nbformat": 3,
 "nbformat_minor": 0,
 "worksheets": [
  {
   "cells": [
    {
     "cell_type": "heading",
     "level": 2,
     "metadata": {},
     "source": [
      "Import the data"
     ]
    },
    {
     "cell_type": "code",
     "collapsed": false,
     "input": [
      "import pandas as pd"
     ],
     "language": "python",
     "metadata": {},
     "outputs": [],
     "prompt_number": 1
    },
    {
     "cell_type": "markdown",
     "metadata": {},
     "source": [
      "This is the raw 1.3 GB file downloaded from [Chicago's data portal](https://data.cityofchicago.org/Public-Safety/Crimes-2001-to-present/ijzp-q8t2). Export csv to get the latest copy."
     ]
    },
    {
     "cell_type": "code",
     "collapsed": false,
     "input": [
      "raw_crimes = pd.read_csv('../data/Crimes_-_2001_to_present.csv')\n",
      "raw_crimes[:5]"
     ],
     "language": "python",
     "metadata": {},
     "outputs": [
      {
       "output_type": "stream",
       "stream": "stderr",
       "text": [
        "/usr/local/lib/python2.7/dist-packages/pandas/io/parsers.py:1164: DtypeWarning: Columns (13) have mixed types. Specify dtype option on import or set low_memory=False.\n",
        "  data = self._reader.read(nrows)\n"
       ]
      },
      {
       "html": [
        "<div style=\"max-height:1000px;max-width:1500px;overflow:auto;\">\n",
        "<table border=\"1\" class=\"dataframe\">\n",
        "  <thead>\n",
        "    <tr style=\"text-align: right;\">\n",
        "      <th></th>\n",
        "      <th>ID</th>\n",
        "      <th>Case Number</th>\n",
        "      <th>Date</th>\n",
        "      <th>Block</th>\n",
        "      <th>IUCR</th>\n",
        "      <th>Primary Type</th>\n",
        "      <th>Description</th>\n",
        "      <th>Location Description</th>\n",
        "      <th>Arrest</th>\n",
        "      <th>Domestic</th>\n",
        "      <th>...</th>\n",
        "      <th>Ward</th>\n",
        "      <th>Community Area</th>\n",
        "      <th>FBI Code</th>\n",
        "      <th>X Coordinate</th>\n",
        "      <th>Y Coordinate</th>\n",
        "      <th>Year</th>\n",
        "      <th>Updated On</th>\n",
        "      <th>Latitude</th>\n",
        "      <th>Longitude</th>\n",
        "      <th>Location</th>\n",
        "    </tr>\n",
        "  </thead>\n",
        "  <tbody>\n",
        "    <tr>\n",
        "      <th>0</th>\n",
        "      <td>9993618</td>\n",
        "      <td>HY183647</td>\n",
        "      <td>03/13/2015 11:56:00 PM</td>\n",
        "      <td>022XX W 21ST ST</td>\n",
        "      <td>051A</td>\n",
        "      <td>ASSAULT</td>\n",
        "      <td>AGGRAVATED: HANDGUN</td>\n",
        "      <td>STREET</td>\n",
        "      <td>False</td>\n",
        "      <td>False</td>\n",
        "      <td>...</td>\n",
        "      <td>25</td>\n",
        "      <td>31</td>\n",
        "      <td>04A</td>\n",
        "      <td>1161498</td>\n",
        "      <td>1889981</td>\n",
        "      <td>2015</td>\n",
        "      <td>03/20/2015 12:42:30 PM</td>\n",
        "      <td>41.853785</td>\n",
        "      <td>-87.682726</td>\n",
        "      <td>(41.853785453, -87.682726178)</td>\n",
        "    </tr>\n",
        "    <tr>\n",
        "      <th>1</th>\n",
        "      <td>9993559</td>\n",
        "      <td>HY183629</td>\n",
        "      <td>03/13/2015 11:56:00 PM</td>\n",
        "      <td>049XX N AUSTIN AVE</td>\n",
        "      <td>2022</td>\n",
        "      <td>NARCOTICS</td>\n",
        "      <td>POSS: COCAINE</td>\n",
        "      <td>ALLEY</td>\n",
        "      <td>True</td>\n",
        "      <td>False</td>\n",
        "      <td>...</td>\n",
        "      <td>45</td>\n",
        "      <td>11</td>\n",
        "      <td>18</td>\n",
        "      <td>1135233</td>\n",
        "      <td>1932723</td>\n",
        "      <td>2015</td>\n",
        "      <td>03/20/2015 12:42:30 PM</td>\n",
        "      <td>41.971580</td>\n",
        "      <td>-87.778114</td>\n",
        "      <td>(41.971580323, -87.778114286)</td>\n",
        "    </tr>\n",
        "    <tr>\n",
        "      <th>2</th>\n",
        "      <td>9993811</td>\n",
        "      <td>HY183931</td>\n",
        "      <td>03/13/2015 11:52:00 PM</td>\n",
        "      <td>002XX N KILBOURN AVE</td>\n",
        "      <td>1320</td>\n",
        "      <td>CRIMINAL DAMAGE</td>\n",
        "      <td>TO VEHICLE</td>\n",
        "      <td>STREET</td>\n",
        "      <td>False</td>\n",
        "      <td>False</td>\n",
        "      <td>...</td>\n",
        "      <td>28</td>\n",
        "      <td>26</td>\n",
        "      <td>14</td>\n",
        "      <td>1146318</td>\n",
        "      <td>1900711</td>\n",
        "      <td>2015</td>\n",
        "      <td>03/20/2015 12:42:30 PM</td>\n",
        "      <td>41.883532</td>\n",
        "      <td>-87.738170</td>\n",
        "      <td>(41.883531998, -87.738169853)</td>\n",
        "    </tr>\n",
        "    <tr>\n",
        "      <th>3</th>\n",
        "      <td>9993675</td>\n",
        "      <td>HY183675</td>\n",
        "      <td>03/13/2015 11:50:00 PM</td>\n",
        "      <td>046XX S LAKE PARK AVE</td>\n",
        "      <td>0486</td>\n",
        "      <td>BATTERY</td>\n",
        "      <td>DOMESTIC BATTERY SIMPLE</td>\n",
        "      <td>STREET</td>\n",
        "      <td>False</td>\n",
        "      <td>True</td>\n",
        "      <td>...</td>\n",
        "      <td>4</td>\n",
        "      <td>39</td>\n",
        "      <td>08B</td>\n",
        "      <td>1185621</td>\n",
        "      <td>1874728</td>\n",
        "      <td>2015</td>\n",
        "      <td>03/20/2015 12:42:30 PM</td>\n",
        "      <td>41.811395</td>\n",
        "      <td>-87.594668</td>\n",
        "      <td>(41.81139462, -87.594668281)</td>\n",
        "    </tr>\n",
        "    <tr>\n",
        "      <th>4</th>\n",
        "      <td>9993703</td>\n",
        "      <td>HY183626</td>\n",
        "      <td>03/13/2015 11:48:00 PM</td>\n",
        "      <td>030XX N KOLMAR AVE</td>\n",
        "      <td>1330</td>\n",
        "      <td>CRIMINAL TRESPASS</td>\n",
        "      <td>TO LAND</td>\n",
        "      <td>RESIDENTIAL YARD (FRONT/BACK)</td>\n",
        "      <td>False</td>\n",
        "      <td>False</td>\n",
        "      <td>...</td>\n",
        "      <td>31</td>\n",
        "      <td>20</td>\n",
        "      <td>26</td>\n",
        "      <td>1145566</td>\n",
        "      <td>1919717</td>\n",
        "      <td>2015</td>\n",
        "      <td>03/20/2015 12:42:30 PM</td>\n",
        "      <td>41.935701</td>\n",
        "      <td>-87.740449</td>\n",
        "      <td>(41.935700728, -87.740448872)</td>\n",
        "    </tr>\n",
        "  </tbody>\n",
        "</table>\n",
        "<p>5 rows \u00d7 22 columns</p>\n",
        "</div>"
       ],
       "metadata": {},
       "output_type": "pyout",
       "prompt_number": 2,
       "text": [
        "        ID Case Number                    Date                  Block  IUCR  \\\n",
        "0  9993618    HY183647  03/13/2015 11:56:00 PM        022XX W 21ST ST  051A   \n",
        "1  9993559    HY183629  03/13/2015 11:56:00 PM     049XX N AUSTIN AVE  2022   \n",
        "2  9993811    HY183931  03/13/2015 11:52:00 PM   002XX N KILBOURN AVE  1320   \n",
        "3  9993675    HY183675  03/13/2015 11:50:00 PM  046XX S LAKE PARK AVE  0486   \n",
        "4  9993703    HY183626  03/13/2015 11:48:00 PM     030XX N KOLMAR AVE  1330   \n",
        "\n",
        "        Primary Type              Description           Location Description  \\\n",
        "0            ASSAULT      AGGRAVATED: HANDGUN                         STREET   \n",
        "1          NARCOTICS            POSS: COCAINE                          ALLEY   \n",
        "2    CRIMINAL DAMAGE               TO VEHICLE                         STREET   \n",
        "3            BATTERY  DOMESTIC BATTERY SIMPLE                         STREET   \n",
        "4  CRIMINAL TRESPASS                  TO LAND  RESIDENTIAL YARD (FRONT/BACK)   \n",
        "\n",
        "  Arrest Domestic              ...                Ward  Community Area  \\\n",
        "0  False    False              ...                  25              31   \n",
        "1   True    False              ...                  45              11   \n",
        "2  False    False              ...                  28              26   \n",
        "3  False     True              ...                   4              39   \n",
        "4  False    False              ...                  31              20   \n",
        "\n",
        "   FBI Code X Coordinate Y Coordinate  Year              Updated On  \\\n",
        "0       04A      1161498      1889981  2015  03/20/2015 12:42:30 PM   \n",
        "1        18      1135233      1932723  2015  03/20/2015 12:42:30 PM   \n",
        "2        14      1146318      1900711  2015  03/20/2015 12:42:30 PM   \n",
        "3       08B      1185621      1874728  2015  03/20/2015 12:42:30 PM   \n",
        "4        26      1145566      1919717  2015  03/20/2015 12:42:30 PM   \n",
        "\n",
        "    Latitude  Longitude                       Location  \n",
        "0  41.853785 -87.682726  (41.853785453, -87.682726178)  \n",
        "1  41.971580 -87.778114  (41.971580323, -87.778114286)  \n",
        "2  41.883532 -87.738170  (41.883531998, -87.738169853)  \n",
        "3  41.811395 -87.594668   (41.81139462, -87.594668281)  \n",
        "4  41.935701 -87.740449  (41.935700728, -87.740448872)  \n",
        "\n",
        "[5 rows x 22 columns]"
       ]
      }
     ],
     "prompt_number": 2
    },
    {
     "cell_type": "heading",
     "level": 2,
     "metadata": {},
     "source": [
      "Trim it down to violent crimes and the community areas they were committed in"
     ]
    },
    {
     "cell_type": "code",
     "collapsed": false,
     "input": [
      "relevant_columns = ['Primary Type','Community Area']\n",
      "trimmed_crimes = raw_crimes.reindex(columns=relevant_columns)\n",
      "trimmed_crimes[:5]"
     ],
     "language": "python",
     "metadata": {},
     "outputs": [
      {
       "html": [
        "<div style=\"max-height:1000px;max-width:1500px;overflow:auto;\">\n",
        "<table border=\"1\" class=\"dataframe\">\n",
        "  <thead>\n",
        "    <tr style=\"text-align: right;\">\n",
        "      <th></th>\n",
        "      <th>Primary Type</th>\n",
        "      <th>Community Area</th>\n",
        "    </tr>\n",
        "  </thead>\n",
        "  <tbody>\n",
        "    <tr>\n",
        "      <th>0</th>\n",
        "      <td>ASSAULT</td>\n",
        "      <td>31</td>\n",
        "    </tr>\n",
        "    <tr>\n",
        "      <th>1</th>\n",
        "      <td>NARCOTICS</td>\n",
        "      <td>11</td>\n",
        "    </tr>\n",
        "    <tr>\n",
        "      <th>2</th>\n",
        "      <td>CRIMINAL DAMAGE</td>\n",
        "      <td>26</td>\n",
        "    </tr>\n",
        "    <tr>\n",
        "      <th>3</th>\n",
        "      <td>BATTERY</td>\n",
        "      <td>39</td>\n",
        "    </tr>\n",
        "    <tr>\n",
        "      <th>4</th>\n",
        "      <td>CRIMINAL TRESPASS</td>\n",
        "      <td>20</td>\n",
        "    </tr>\n",
        "  </tbody>\n",
        "</table>\n",
        "</div>"
       ],
       "metadata": {},
       "output_type": "pyout",
       "prompt_number": 10,
       "text": [
        "        Primary Type Community Area\n",
        "0            ASSAULT             31\n",
        "1          NARCOTICS             11\n",
        "2    CRIMINAL DAMAGE             26\n",
        "3            BATTERY             39\n",
        "4  CRIMINAL TRESPASS             20"
       ]
      }
     ],
     "prompt_number": 10
    },
    {
     "cell_type": "markdown",
     "metadata": {},
     "source": [
      "Bin the crimes according to severity."
     ]
    },
    {
     "cell_type": "code",
     "collapsed": false,
     "input": [
      "import csv\n",
      "\n",
      "def bin_from_csv(csv_name, series_to_bin):\n",
      "    with open(csv_name, 'rb') as bin_file:\n",
      "        unbinned_to_binned = {}\n",
      "        reader = csv.reader(bin_file)\n",
      "        for line in reader:\n",
      "            unbinned_to_binned[line[0]] = line[1]\n",
      "    \n",
      "    return series_to_bin.map(lambda unbinned: unbinned_to_binned[unbinned])\n",
      "\n",
      "\n",
      "def bin_crimes(series):\n",
      "    return bin_from_csv('../config/crime_bins.csv', series)"
     ],
     "language": "python",
     "metadata": {},
     "outputs": [],
     "prompt_number": 11
    },
    {
     "cell_type": "code",
     "collapsed": false,
     "input": [
      "trimmed_crimes['Primary Type'] = bin_crimes(raw_crimes['Primary Type'])\n",
      "trimmed_crimes[:5]"
     ],
     "language": "python",
     "metadata": {},
     "outputs": [
      {
       "html": [
        "<div style=\"max-height:1000px;max-width:1500px;overflow:auto;\">\n",
        "<table border=\"1\" class=\"dataframe\">\n",
        "  <thead>\n",
        "    <tr style=\"text-align: right;\">\n",
        "      <th></th>\n",
        "      <th>Primary Type</th>\n",
        "      <th>Community Area</th>\n",
        "    </tr>\n",
        "  </thead>\n",
        "  <tbody>\n",
        "    <tr>\n",
        "      <th>0</th>\n",
        "      <td>1</td>\n",
        "      <td>31</td>\n",
        "    </tr>\n",
        "    <tr>\n",
        "      <th>1</th>\n",
        "      <td>4</td>\n",
        "      <td>11</td>\n",
        "    </tr>\n",
        "    <tr>\n",
        "      <th>2</th>\n",
        "      <td>2</td>\n",
        "      <td>26</td>\n",
        "    </tr>\n",
        "    <tr>\n",
        "      <th>3</th>\n",
        "      <td>1</td>\n",
        "      <td>39</td>\n",
        "    </tr>\n",
        "    <tr>\n",
        "      <th>4</th>\n",
        "      <td>3</td>\n",
        "      <td>20</td>\n",
        "    </tr>\n",
        "  </tbody>\n",
        "</table>\n",
        "</div>"
       ],
       "metadata": {},
       "output_type": "pyout",
       "prompt_number": 12,
       "text": [
        "  Primary Type Community Area\n",
        "0            1             31\n",
        "1            4             11\n",
        "2            2             26\n",
        "3            1             39\n",
        "4            3             20"
       ]
      }
     ],
     "prompt_number": 12
    },
    {
     "cell_type": "markdown",
     "metadata": {},
     "source": [
      "Drop all crimes that aren't type 1 (violent)"
     ]
    },
    {
     "cell_type": "code",
     "collapsed": false,
     "input": [
      "violent_crimes = trimmed_crimes[trimmed_crimes['Primary Type'] == \"1\"]\n",
      "del violent_crimes['Primary Type']\n",
      "violent_crimes[:5]"
     ],
     "language": "python",
     "metadata": {},
     "outputs": [
      {
       "html": [
        "<div style=\"max-height:1000px;max-width:1500px;overflow:auto;\">\n",
        "<table border=\"1\" class=\"dataframe\">\n",
        "  <thead>\n",
        "    <tr style=\"text-align: right;\">\n",
        "      <th></th>\n",
        "      <th>Community Area</th>\n",
        "    </tr>\n",
        "  </thead>\n",
        "  <tbody>\n",
        "    <tr>\n",
        "      <th>0</th>\n",
        "      <td>31</td>\n",
        "    </tr>\n",
        "    <tr>\n",
        "      <th>3</th>\n",
        "      <td>39</td>\n",
        "    </tr>\n",
        "    <tr>\n",
        "      <th>7</th>\n",
        "      <td>1</td>\n",
        "    </tr>\n",
        "    <tr>\n",
        "      <th>8</th>\n",
        "      <td>66</td>\n",
        "    </tr>\n",
        "    <tr>\n",
        "      <th>9</th>\n",
        "      <td>53</td>\n",
        "    </tr>\n",
        "  </tbody>\n",
        "</table>\n",
        "</div>"
       ],
       "metadata": {},
       "output_type": "pyout",
       "prompt_number": 13,
       "text": [
        "  Community Area\n",
        "0             31\n",
        "3             39\n",
        "7              1\n",
        "8             66\n",
        "9             53"
       ]
      }
     ],
     "prompt_number": 13
    },
    {
     "cell_type": "markdown",
     "metadata": {},
     "source": [
      "Now let's split by community area. There is some missing data (community areas classified as 0 or not classified at all) but there are few of these so we'll just discard them."
     ]
    },
    {
     "cell_type": "code",
     "collapsed": false,
     "input": [
      "areas_with_crimes = violent_crimes.groupby('Community Area')\n",
      "crimes_by_area = {}\n",
      "with open('../config/community_areas.csv', 'rb') as area_file:\n",
      "    area_dict = {}\n",
      "    reader = csv.reader(area_file)\n",
      "    for line in reader:\n",
      "        area_dict[int(line[0])] = line[1]\n",
      "    for name, group in areas_with_crimes:\n",
      "        #Only include valid community area numbers\n",
      "        if (int(name) in range(1,78)):\n",
      "            crimes_by_area[area_dict[int(name)]] = group"
     ],
     "language": "python",
     "metadata": {},
     "outputs": [],
     "prompt_number": 16
    },
    {
     "cell_type": "code",
     "collapsed": false,
     "input": [
      "crimes_by_area['Edgewater'][:5]"
     ],
     "language": "python",
     "metadata": {},
     "outputs": [
      {
       "html": [
        "<div style=\"max-height:1000px;max-width:1500px;overflow:auto;\">\n",
        "<table border=\"1\" class=\"dataframe\">\n",
        "  <thead>\n",
        "    <tr style=\"text-align: right;\">\n",
        "      <th></th>\n",
        "      <th>Community Area</th>\n",
        "    </tr>\n",
        "  </thead>\n",
        "  <tbody>\n",
        "    <tr>\n",
        "      <th>2491436</th>\n",
        "      <td>77</td>\n",
        "    </tr>\n",
        "    <tr>\n",
        "      <th>2493780</th>\n",
        "      <td>77</td>\n",
        "    </tr>\n",
        "    <tr>\n",
        "      <th>2493801</th>\n",
        "      <td>77</td>\n",
        "    </tr>\n",
        "    <tr>\n",
        "      <th>2494266</th>\n",
        "      <td>77</td>\n",
        "    </tr>\n",
        "    <tr>\n",
        "      <th>2494506</th>\n",
        "      <td>77</td>\n",
        "    </tr>\n",
        "  </tbody>\n",
        "</table>\n",
        "</div>"
       ],
       "metadata": {},
       "output_type": "pyout",
       "prompt_number": 18,
       "text": [
        "        Community Area\n",
        "2491436             77\n",
        "2493780             77\n",
        "2493801             77\n",
        "2494266             77\n",
        "2494506             77"
       ]
      }
     ],
     "prompt_number": 18
    },
    {
     "cell_type": "markdown",
     "metadata": {},
     "source": [
      "The sample I took has crimes from 01/01/2001 to 03/13/2015\n"
     ]
    },
    {
     "cell_type": "code",
     "collapsed": false,
     "input": [
      "from datetime import date\n",
      "\n",
      "d0 = date(2015, 3, 13)\n",
      "d1 = date(2001, 1, 1)\n",
      "delta = d0 - d1\n",
      "num_days = delta.days"
     ],
     "language": "python",
     "metadata": {},
     "outputs": [],
     "prompt_number": 19
    },
    {
     "cell_type": "code",
     "collapsed": false,
     "input": [
      "from __future__ import division\n",
      "\n",
      "avg_crimes_by_area = {}\n",
      "for area in crimes_by_area:\n",
      "    avg_crimes_by_area[area] = len(crimes_by_area[area].index)/num_days"
     ],
     "language": "python",
     "metadata": {},
     "outputs": [],
     "prompt_number": 20
    },
    {
     "cell_type": "code",
     "collapsed": false,
     "input": [
      "avg_crimes_by_area['Edgewater']"
     ],
     "language": "python",
     "metadata": {},
     "outputs": [
      {
       "metadata": {},
       "output_type": "pyout",
       "prompt_number": 21,
       "text": [
        "0.16107253086419754"
       ]
      }
     ],
     "prompt_number": 21
    },
    {
     "cell_type": "code",
     "collapsed": false,
     "input": [
      "def predict_crime(community_area):\n",
      "    if not community_area in avg_crimes_by_area:\n",
      "        print 'Not a Chicago community area'\n",
      "        return 0\n",
      "    return avg_crimes_by_area[community_area]"
     ],
     "language": "python",
     "metadata": {},
     "outputs": [],
     "prompt_number": 22
    },
    {
     "cell_type": "code",
     "collapsed": false,
     "input": [
      "predict_crime('Edgewater')"
     ],
     "language": "python",
     "metadata": {},
     "outputs": [
      {
       "metadata": {},
       "output_type": "pyout",
       "prompt_number": 23,
       "text": [
        "0.16107253086419754"
       ]
      }
     ],
     "prompt_number": 23
    }
   ],
   "metadata": {}
  }
 ]
}