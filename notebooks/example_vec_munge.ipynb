{
 "metadata": {
  "name": ""
 },
 "nbformat": 3,
 "nbformat_minor": 0,
 "worksheets": [
  {
   "cells": [
    {
     "cell_type": "code",
     "collapsed": false,
     "input": [
      "import imp\n",
      "\n",
      "hlp = imp.load_source('helpers', '../clearn/helpers.py')"
     ],
     "language": "python",
     "metadata": {},
     "outputs": [],
     "prompt_number": 1
    },
    {
     "cell_type": "code",
     "collapsed": false,
     "input": [
      "import pandas as pd"
     ],
     "language": "python",
     "metadata": {},
     "outputs": [],
     "prompt_number": 2
    },
    {
     "cell_type": "code",
     "collapsed": false,
     "input": [
      "crimes = pd.read_csv('../data/crimeSample.csv')"
     ],
     "language": "python",
     "metadata": {},
     "outputs": [],
     "prompt_number": 3
    },
    {
     "cell_type": "code",
     "collapsed": false,
     "input": [
      "crimes = hlp.drop_all_columns_but(crimes, ['Date', 'Primary Type', 'Community Area', 'Arrest', 'Domestic', 'Year'])\n",
      "crimes = hlp.convert_comm_area_nums_to_names(crimes)"
     ],
     "language": "python",
     "metadata": {},
     "outputs": [
      {
       "output_type": "stream",
       "stream": "stderr",
       "text": [
        "../clearn/helpers.py:39: SettingWithCopyWarning: \n",
        "A value is trying to be set on a copy of a slice from a DataFrame.\n",
        "Try using .loc[row_indexer,col_indexer] = value instead\n",
        "\n",
        "See the the caveats in the documentation: http://pandas.pydata.org/pandas-docs/stable/indexing.html#indexing-view-versus-copy\n",
        "  data_frame['Community Area'] = data_frame['Community Area'].map(lambda num: str(num))\n",
        "../clearn/helpers.py:21: SettingWithCopyWarning: \n",
        "A value is trying to be set on a copy of a slice from a DataFrame.\n",
        "Try using .loc[row_indexer,col_indexer] = value instead\n",
        "\n",
        "See the the caveats in the documentation: http://pandas.pydata.org/pandas-docs/stable/indexing.html#indexing-view-versus-copy\n",
        "  data_frame[col_name] = bin_from_csv(csv_name, data_frame[col_name])\n"
       ]
      }
     ],
     "prompt_number": 4
    },
    {
     "cell_type": "code",
     "collapsed": false,
     "input": [
      "crimes = hlp.transform_from_csv(crimes,'Primary Type','../config/crime_bins.csv')"
     ],
     "language": "python",
     "metadata": {},
     "outputs": [],
     "prompt_number": 5
    },
    {
     "cell_type": "code",
     "collapsed": false,
     "input": [
      "crimes[:5]"
     ],
     "language": "python",
     "metadata": {},
     "outputs": [
      {
       "html": [
        "<div style=\"max-height:1000px;max-width:1500px;overflow:auto;\">\n",
        "<table border=\"1\" class=\"dataframe\">\n",
        "  <thead>\n",
        "    <tr style=\"text-align: right;\">\n",
        "      <th></th>\n",
        "      <th>Date</th>\n",
        "      <th>Primary Type</th>\n",
        "      <th>Community Area</th>\n",
        "      <th>Arrest</th>\n",
        "      <th>Domestic</th>\n",
        "      <th>Year</th>\n",
        "    </tr>\n",
        "  </thead>\n",
        "  <tbody>\n",
        "    <tr>\n",
        "      <th>0</th>\n",
        "      <td>03/13/2015 11:56:00 PM</td>\n",
        "      <td>Violent</td>\n",
        "      <td>Lower West Side</td>\n",
        "      <td>False</td>\n",
        "      <td>False</td>\n",
        "      <td>2015</td>\n",
        "    </tr>\n",
        "    <tr>\n",
        "      <th>1</th>\n",
        "      <td>03/13/2015 11:56:00 PM</td>\n",
        "      <td>Petty</td>\n",
        "      <td>Jefferson Park</td>\n",
        "      <td>True</td>\n",
        "      <td>False</td>\n",
        "      <td>2015</td>\n",
        "    </tr>\n",
        "    <tr>\n",
        "      <th>2</th>\n",
        "      <td>03/13/2015 11:52:00 PM</td>\n",
        "      <td>Severe</td>\n",
        "      <td>West Garfield park</td>\n",
        "      <td>False</td>\n",
        "      <td>False</td>\n",
        "      <td>2015</td>\n",
        "    </tr>\n",
        "    <tr>\n",
        "      <th>3</th>\n",
        "      <td>03/13/2015 11:50:00 PM</td>\n",
        "      <td>Violent</td>\n",
        "      <td>Kenwood</td>\n",
        "      <td>False</td>\n",
        "      <td>True</td>\n",
        "      <td>2015</td>\n",
        "    </tr>\n",
        "    <tr>\n",
        "      <th>4</th>\n",
        "      <td>03/13/2015 11:48:00 PM</td>\n",
        "      <td>Minor</td>\n",
        "      <td>Hermosa</td>\n",
        "      <td>False</td>\n",
        "      <td>False</td>\n",
        "      <td>2015</td>\n",
        "    </tr>\n",
        "  </tbody>\n",
        "</table>\n",
        "</div>"
       ],
       "metadata": {},
       "output_type": "pyout",
       "prompt_number": 6,
       "text": [
        "                     Date Primary Type      Community Area Arrest Domestic  \\\n",
        "0  03/13/2015 11:56:00 PM      Violent     Lower West Side  False    False   \n",
        "1  03/13/2015 11:56:00 PM        Petty      Jefferson Park   True    False   \n",
        "2  03/13/2015 11:52:00 PM       Severe  West Garfield park  False    False   \n",
        "3  03/13/2015 11:50:00 PM      Violent             Kenwood  False     True   \n",
        "4  03/13/2015 11:48:00 PM        Minor             Hermosa  False    False   \n",
        "\n",
        "   Year  \n",
        "0  2015  \n",
        "1  2015  \n",
        "2  2015  \n",
        "3  2015  \n",
        "4  2015  "
       ]
      }
     ],
     "prompt_number": 6
    },
    {
     "cell_type": "code",
     "collapsed": false,
     "input": [
      "crimes = hlp.reindex_by_date(crimes)"
     ],
     "language": "python",
     "metadata": {},
     "outputs": [],
     "prompt_number": 7
    },
    {
     "cell_type": "code",
     "collapsed": false,
     "input": [
      "crimes = hlp.make_col_categorical(crimes, 'Primary Type')\n",
      "crimes = hlp.make_col_categorical(crimes, 'Community Area')"
     ],
     "language": "python",
     "metadata": {},
     "outputs": [],
     "prompt_number": 8
    },
    {
     "cell_type": "code",
     "collapsed": false,
     "input": [
      "del crimes['Year']"
     ],
     "language": "python",
     "metadata": {},
     "outputs": [],
     "prompt_number": 9
    },
    {
     "cell_type": "code",
     "collapsed": false,
     "input": [
      "crimes = hlp.extract_severity_counts(crimes)"
     ],
     "language": "python",
     "metadata": {},
     "outputs": [],
     "prompt_number": 10
    },
    {
     "cell_type": "code",
     "collapsed": false,
     "input": [
      "crimes[:5]"
     ],
     "language": "python",
     "metadata": {},
     "outputs": [
      {
       "html": [
        "<div style=\"max-height:1000px;max-width:1500px;overflow:auto;\">\n",
        "<table border=\"1\" class=\"dataframe\">\n",
        "  <thead>\n",
        "    <tr style=\"text-align: right;\">\n",
        "      <th></th>\n",
        "      <th>Primary Type</th>\n",
        "      <th>Community Area</th>\n",
        "      <th>Arrest</th>\n",
        "      <th>Domestic</th>\n",
        "      <th>Violent Crimes</th>\n",
        "      <th>Severe Crimes</th>\n",
        "      <th>Minor Crimes</th>\n",
        "      <th>Petty Crimes</th>\n",
        "    </tr>\n",
        "    <tr>\n",
        "      <th>Date</th>\n",
        "      <th></th>\n",
        "      <th></th>\n",
        "      <th></th>\n",
        "      <th></th>\n",
        "      <th></th>\n",
        "      <th></th>\n",
        "      <th></th>\n",
        "      <th></th>\n",
        "    </tr>\n",
        "  </thead>\n",
        "  <tbody>\n",
        "    <tr>\n",
        "      <th>2015-03-13 23:56:00</th>\n",
        "      <td>Violent</td>\n",
        "      <td>Lower West Side</td>\n",
        "      <td>False</td>\n",
        "      <td>False</td>\n",
        "      <td>1</td>\n",
        "      <td>0</td>\n",
        "      <td>0</td>\n",
        "      <td>0</td>\n",
        "    </tr>\n",
        "    <tr>\n",
        "      <th>2015-03-13 23:56:00</th>\n",
        "      <td>Petty</td>\n",
        "      <td>Jefferson Park</td>\n",
        "      <td>True</td>\n",
        "      <td>False</td>\n",
        "      <td>0</td>\n",
        "      <td>0</td>\n",
        "      <td>0</td>\n",
        "      <td>1</td>\n",
        "    </tr>\n",
        "    <tr>\n",
        "      <th>2015-03-13 23:52:00</th>\n",
        "      <td>Severe</td>\n",
        "      <td>West Garfield park</td>\n",
        "      <td>False</td>\n",
        "      <td>False</td>\n",
        "      <td>0</td>\n",
        "      <td>1</td>\n",
        "      <td>0</td>\n",
        "      <td>0</td>\n",
        "    </tr>\n",
        "    <tr>\n",
        "      <th>2015-03-13 23:50:00</th>\n",
        "      <td>Violent</td>\n",
        "      <td>Kenwood</td>\n",
        "      <td>False</td>\n",
        "      <td>True</td>\n",
        "      <td>1</td>\n",
        "      <td>0</td>\n",
        "      <td>0</td>\n",
        "      <td>0</td>\n",
        "    </tr>\n",
        "    <tr>\n",
        "      <th>2015-03-13 23:48:00</th>\n",
        "      <td>Minor</td>\n",
        "      <td>Hermosa</td>\n",
        "      <td>False</td>\n",
        "      <td>False</td>\n",
        "      <td>0</td>\n",
        "      <td>0</td>\n",
        "      <td>1</td>\n",
        "      <td>0</td>\n",
        "    </tr>\n",
        "  </tbody>\n",
        "</table>\n",
        "</div>"
       ],
       "metadata": {},
       "output_type": "pyout",
       "prompt_number": 11,
       "text": [
        "                    Primary Type      Community Area Arrest Domestic  \\\n",
        "Date                                                                   \n",
        "2015-03-13 23:56:00      Violent     Lower West Side  False    False   \n",
        "2015-03-13 23:56:00        Petty      Jefferson Park   True    False   \n",
        "2015-03-13 23:52:00       Severe  West Garfield park  False    False   \n",
        "2015-03-13 23:50:00      Violent             Kenwood  False     True   \n",
        "2015-03-13 23:48:00        Minor             Hermosa  False    False   \n",
        "\n",
        "                     Violent Crimes  Severe Crimes  Minor Crimes  Petty Crimes  \n",
        "Date                                                                            \n",
        "2015-03-13 23:56:00               1              0             0             0  \n",
        "2015-03-13 23:56:00               0              0             0             1  \n",
        "2015-03-13 23:52:00               0              1             0             0  \n",
        "2015-03-13 23:50:00               1              0             0             0  \n",
        "2015-03-13 23:48:00               0              0             1             0  "
       ]
      }
     ],
     "prompt_number": 11
    },
    {
     "cell_type": "code",
     "collapsed": false,
     "input": [
      "all_chicago_by_day = crimes.resample('D', how='sum')"
     ],
     "language": "python",
     "metadata": {},
     "outputs": [],
     "prompt_number": 14
    },
    {
     "cell_type": "code",
     "collapsed": false,
     "input": [
      "all_chicago_by_day[:5]"
     ],
     "language": "python",
     "metadata": {},
     "outputs": [
      {
       "html": [
        "<div style=\"max-height:1000px;max-width:1500px;overflow:auto;\">\n",
        "<table border=\"1\" class=\"dataframe\">\n",
        "  <thead>\n",
        "    <tr style=\"text-align: right;\">\n",
        "      <th></th>\n",
        "      <th>Arrest</th>\n",
        "      <th>Domestic</th>\n",
        "      <th>Violent Crimes</th>\n",
        "      <th>Severe Crimes</th>\n",
        "      <th>Minor Crimes</th>\n",
        "      <th>Petty Crimes</th>\n",
        "    </tr>\n",
        "    <tr>\n",
        "      <th>Date</th>\n",
        "      <th></th>\n",
        "      <th></th>\n",
        "      <th></th>\n",
        "      <th></th>\n",
        "      <th></th>\n",
        "      <th></th>\n",
        "    </tr>\n",
        "  </thead>\n",
        "  <tbody>\n",
        "    <tr>\n",
        "      <th>2014-09-28</th>\n",
        "      <td>112</td>\n",
        "      <td>76</td>\n",
        "      <td>141</td>\n",
        "      <td>214</td>\n",
        "      <td>33</td>\n",
        "      <td>63</td>\n",
        "    </tr>\n",
        "    <tr>\n",
        "      <th>2014-09-29</th>\n",
        "      <td>222</td>\n",
        "      <td>102</td>\n",
        "      <td>200</td>\n",
        "      <td>356</td>\n",
        "      <td>82</td>\n",
        "      <td>154</td>\n",
        "    </tr>\n",
        "    <tr>\n",
        "      <th>2014-09-30</th>\n",
        "      <td>208</td>\n",
        "      <td>101</td>\n",
        "      <td>173</td>\n",
        "      <td>362</td>\n",
        "      <td>83</td>\n",
        "      <td>141</td>\n",
        "    </tr>\n",
        "    <tr>\n",
        "      <th>2014-10-01</th>\n",
        "      <td>239</td>\n",
        "      <td>91</td>\n",
        "      <td>209</td>\n",
        "      <td>405</td>\n",
        "      <td>92</td>\n",
        "      <td>177</td>\n",
        "    </tr>\n",
        "    <tr>\n",
        "      <th>2014-10-02</th>\n",
        "      <td>191</td>\n",
        "      <td>113</td>\n",
        "      <td>195</td>\n",
        "      <td>386</td>\n",
        "      <td>72</td>\n",
        "      <td>136</td>\n",
        "    </tr>\n",
        "  </tbody>\n",
        "</table>\n",
        "</div>"
       ],
       "metadata": {},
       "output_type": "pyout",
       "prompt_number": 15,
       "text": [
        "            Arrest  Domestic  Violent Crimes  Severe Crimes  Minor Crimes  \\\n",
        "Date                                                                        \n",
        "2014-09-28     112        76             141            214            33   \n",
        "2014-09-29     222       102             200            356            82   \n",
        "2014-09-30     208       101             173            362            83   \n",
        "2014-10-01     239        91             209            405            92   \n",
        "2014-10-02     191       113             195            386            72   \n",
        "\n",
        "            Petty Crimes  \n",
        "Date                      \n",
        "2014-09-28            63  \n",
        "2014-09-29           154  \n",
        "2014-09-30           141  \n",
        "2014-10-01           177  \n",
        "2014-10-02           136  "
       ]
      }
     ],
     "prompt_number": 15
    },
    {
     "cell_type": "code",
     "collapsed": false,
     "input": [
      "all_chicago_by_week = crimes.resample('W', how='sum')"
     ],
     "language": "python",
     "metadata": {},
     "outputs": [],
     "prompt_number": 16
    },
    {
     "cell_type": "code",
     "collapsed": false,
     "input": [
      "all_chicago_by_week[:5]"
     ],
     "language": "python",
     "metadata": {},
     "outputs": [
      {
       "html": [
        "<div style=\"max-height:1000px;max-width:1500px;overflow:auto;\">\n",
        "<table border=\"1\" class=\"dataframe\">\n",
        "  <thead>\n",
        "    <tr style=\"text-align: right;\">\n",
        "      <th></th>\n",
        "      <th>Arrest</th>\n",
        "      <th>Domestic</th>\n",
        "      <th>Violent Crimes</th>\n",
        "      <th>Severe Crimes</th>\n",
        "      <th>Minor Crimes</th>\n",
        "      <th>Petty Crimes</th>\n",
        "    </tr>\n",
        "    <tr>\n",
        "      <th>Date</th>\n",
        "      <th></th>\n",
        "      <th></th>\n",
        "      <th></th>\n",
        "      <th></th>\n",
        "      <th></th>\n",
        "      <th></th>\n",
        "    </tr>\n",
        "  </thead>\n",
        "  <tbody>\n",
        "    <tr>\n",
        "      <th>2014-09-28</th>\n",
        "      <td>112</td>\n",
        "      <td>76</td>\n",
        "      <td>141</td>\n",
        "      <td>214</td>\n",
        "      <td>33</td>\n",
        "      <td>63</td>\n",
        "    </tr>\n",
        "    <tr>\n",
        "      <th>2014-10-05</th>\n",
        "      <td>1473</td>\n",
        "      <td>743</td>\n",
        "      <td>1324</td>\n",
        "      <td>2548</td>\n",
        "      <td>513</td>\n",
        "      <td>1023</td>\n",
        "    </tr>\n",
        "    <tr>\n",
        "      <th>2014-10-12</th>\n",
        "      <td>1407</td>\n",
        "      <td>704</td>\n",
        "      <td>1249</td>\n",
        "      <td>2427</td>\n",
        "      <td>445</td>\n",
        "      <td>938</td>\n",
        "    </tr>\n",
        "    <tr>\n",
        "      <th>2014-10-19</th>\n",
        "      <td>1480</td>\n",
        "      <td>727</td>\n",
        "      <td>1269</td>\n",
        "      <td>2521</td>\n",
        "      <td>513</td>\n",
        "      <td>983</td>\n",
        "    </tr>\n",
        "    <tr>\n",
        "      <th>2014-10-26</th>\n",
        "      <td>1516</td>\n",
        "      <td>708</td>\n",
        "      <td>1335</td>\n",
        "      <td>2574</td>\n",
        "      <td>521</td>\n",
        "      <td>958</td>\n",
        "    </tr>\n",
        "  </tbody>\n",
        "</table>\n",
        "</div>"
       ],
       "metadata": {},
       "output_type": "pyout",
       "prompt_number": 17,
       "text": [
        "            Arrest  Domestic  Violent Crimes  Severe Crimes  Minor Crimes  \\\n",
        "Date                                                                        \n",
        "2014-09-28     112        76             141            214            33   \n",
        "2014-10-05    1473       743            1324           2548           513   \n",
        "2014-10-12    1407       704            1249           2427           445   \n",
        "2014-10-19    1480       727            1269           2521           513   \n",
        "2014-10-26    1516       708            1335           2574           521   \n",
        "\n",
        "            Petty Crimes  \n",
        "Date                      \n",
        "2014-09-28            63  \n",
        "2014-10-05          1023  \n",
        "2014-10-12           938  \n",
        "2014-10-19           983  \n",
        "2014-10-26           958  "
       ]
      }
     ],
     "prompt_number": 17
    },
    {
     "cell_type": "code",
     "collapsed": false,
     "input": [
      "all_chicago_by_week.index[2]"
     ],
     "language": "python",
     "metadata": {},
     "outputs": [
      {
       "metadata": {},
       "output_type": "pyout",
       "prompt_number": 19,
       "text": [
        "Timestamp('2014-10-12 00:00:00', offset='W-SUN')"
       ]
      }
     ],
     "prompt_number": 19
    },
    {
     "cell_type": "code",
     "collapsed": false,
     "input": [
      "all_chicago_by_day.index[2]"
     ],
     "language": "python",
     "metadata": {},
     "outputs": [
      {
       "metadata": {},
       "output_type": "pyout",
       "prompt_number": 20,
       "text": [
        "Timestamp('2014-09-30 00:00:00', offset='D')"
       ]
      }
     ],
     "prompt_number": 20
    },
    {
     "cell_type": "code",
     "collapsed": false,
     "input": [
      "import pandas.tseries.offsets as offsets"
     ],
     "language": "python",
     "metadata": {},
     "outputs": [],
     "prompt_number": 24
    },
    {
     "cell_type": "code",
     "collapsed": false,
     "input": [
      "week = offsets.Week(0)"
     ],
     "language": "python",
     "metadata": {},
     "outputs": [],
     "prompt_number": 35
    },
    {
     "cell_type": "code",
     "collapsed": false,
     "input": [
      "week.apply(all_chicago_by_day.index[2])"
     ],
     "language": "python",
     "metadata": {},
     "outputs": [
      {
       "metadata": {},
       "output_type": "pyout",
       "prompt_number": 36,
       "text": [
        "Timestamp('2014-09-30 00:00:00')"
       ]
      }
     ],
     "prompt_number": 36
    },
    {
     "cell_type": "code",
     "collapsed": false,
     "input": [],
     "language": "python",
     "metadata": {},
     "outputs": []
    }
   ],
   "metadata": {}
  }
 ]
}