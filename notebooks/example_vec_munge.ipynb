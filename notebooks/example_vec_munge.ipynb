{
 "metadata": {
  "name": ""
 },
 "nbformat": 3,
 "nbformat_minor": 0,
 "worksheets": [
  {
   "cells": [
    {
     "cell_type": "code",
     "collapsed": false,
     "input": [
      "import pandas as pd\n",
      "import imp\n",
      "\n",
      "hlp = imp.load_source('helpers', '../clearn/helpers.py')"
     ],
     "language": "python",
     "metadata": {},
     "outputs": [],
     "prompt_number": 10
    },
    {
     "cell_type": "code",
     "collapsed": false,
     "input": [
      "crimes = pd.read_csv('../data/crimeSample.csv')"
     ],
     "language": "python",
     "metadata": {},
     "outputs": [],
     "prompt_number": 11
    },
    {
     "cell_type": "code",
     "collapsed": false,
     "input": [
      "crimes = hlp.drop_all_columns_but(crimes, ['Date', 'Primary Type', 'Community Area', 'Arrest', 'Domestic'])\n",
      "crimes = hlp.convert_comm_area_nums_to_names(crimes)"
     ],
     "language": "python",
     "metadata": {},
     "outputs": [],
     "prompt_number": 12
    },
    {
     "cell_type": "code",
     "collapsed": false,
     "input": [
      "crimes = hlp.transform_from_csv(crimes,'Primary Type','../config/crime_bins.csv')"
     ],
     "language": "python",
     "metadata": {},
     "outputs": [],
     "prompt_number": 13
    },
    {
     "cell_type": "code",
     "collapsed": false,
     "input": [
      "crimes = hlp.reindex_by_date(crimes)"
     ],
     "language": "python",
     "metadata": {},
     "outputs": [],
     "prompt_number": 14
    },
    {
     "cell_type": "code",
     "collapsed": false,
     "input": [
      "crimes = hlp.make_col_categorical(crimes, 'Primary Type')\n",
      "crimes = hlp.make_col_categorical(crimes, 'Community Area')"
     ],
     "language": "python",
     "metadata": {},
     "outputs": [],
     "prompt_number": 15
    },
    {
     "cell_type": "code",
     "collapsed": false,
     "input": [
      "crimes = hlp.extract_severity_counts(crimes)"
     ],
     "language": "python",
     "metadata": {},
     "outputs": [],
     "prompt_number": 16
    },
    {
     "cell_type": "code",
     "collapsed": false,
     "input": [
      "crimes[:5]"
     ],
     "language": "python",
     "metadata": {},
     "outputs": [
      {
       "html": [
        "<div style=\"max-height:1000px;max-width:1500px;overflow:auto;\">\n",
        "<table border=\"1\" class=\"dataframe\">\n",
        "  <thead>\n",
        "    <tr style=\"text-align: right;\">\n",
        "      <th></th>\n",
        "      <th>Primary Type</th>\n",
        "      <th>Community Area</th>\n",
        "      <th>Arrest</th>\n",
        "      <th>Domestic</th>\n",
        "      <th>Violent Crimes</th>\n",
        "      <th>Severe Crimes</th>\n",
        "      <th>Minor Crimes</th>\n",
        "      <th>Petty Crimes</th>\n",
        "    </tr>\n",
        "    <tr>\n",
        "      <th>Date</th>\n",
        "      <th></th>\n",
        "      <th></th>\n",
        "      <th></th>\n",
        "      <th></th>\n",
        "      <th></th>\n",
        "      <th></th>\n",
        "      <th></th>\n",
        "      <th></th>\n",
        "    </tr>\n",
        "  </thead>\n",
        "  <tbody>\n",
        "    <tr>\n",
        "      <th>2015-03-13 23:56:00</th>\n",
        "      <td>Violent</td>\n",
        "      <td>Lower West Side</td>\n",
        "      <td>False</td>\n",
        "      <td>False</td>\n",
        "      <td>1</td>\n",
        "      <td>0</td>\n",
        "      <td>0</td>\n",
        "      <td>0</td>\n",
        "    </tr>\n",
        "    <tr>\n",
        "      <th>2015-03-13 23:56:00</th>\n",
        "      <td>Petty</td>\n",
        "      <td>Jefferson Park</td>\n",
        "      <td>True</td>\n",
        "      <td>False</td>\n",
        "      <td>0</td>\n",
        "      <td>0</td>\n",
        "      <td>0</td>\n",
        "      <td>1</td>\n",
        "    </tr>\n",
        "    <tr>\n",
        "      <th>2015-03-13 23:52:00</th>\n",
        "      <td>Severe</td>\n",
        "      <td>West Garfield park</td>\n",
        "      <td>False</td>\n",
        "      <td>False</td>\n",
        "      <td>0</td>\n",
        "      <td>1</td>\n",
        "      <td>0</td>\n",
        "      <td>0</td>\n",
        "    </tr>\n",
        "    <tr>\n",
        "      <th>2015-03-13 23:50:00</th>\n",
        "      <td>Violent</td>\n",
        "      <td>Kenwood</td>\n",
        "      <td>False</td>\n",
        "      <td>True</td>\n",
        "      <td>1</td>\n",
        "      <td>0</td>\n",
        "      <td>0</td>\n",
        "      <td>0</td>\n",
        "    </tr>\n",
        "    <tr>\n",
        "      <th>2015-03-13 23:48:00</th>\n",
        "      <td>Minor</td>\n",
        "      <td>Hermosa</td>\n",
        "      <td>False</td>\n",
        "      <td>False</td>\n",
        "      <td>0</td>\n",
        "      <td>0</td>\n",
        "      <td>1</td>\n",
        "      <td>0</td>\n",
        "    </tr>\n",
        "  </tbody>\n",
        "</table>\n",
        "</div>"
       ],
       "metadata": {},
       "output_type": "pyout",
       "prompt_number": 17,
       "text": [
        "                    Primary Type      Community Area Arrest Domestic  \\\n",
        "Date                                                                   \n",
        "2015-03-13 23:56:00      Violent     Lower West Side  False    False   \n",
        "2015-03-13 23:56:00        Petty      Jefferson Park   True    False   \n",
        "2015-03-13 23:52:00       Severe  West Garfield park  False    False   \n",
        "2015-03-13 23:50:00      Violent             Kenwood  False     True   \n",
        "2015-03-13 23:48:00        Minor             Hermosa  False    False   \n",
        "\n",
        "                     Violent Crimes  Severe Crimes  Minor Crimes  Petty Crimes  \n",
        "Date                                                                            \n",
        "2015-03-13 23:56:00               1              0             0             0  \n",
        "2015-03-13 23:56:00               0              0             0             1  \n",
        "2015-03-13 23:52:00               0              1             0             0  \n",
        "2015-03-13 23:50:00               1              0             0             0  \n",
        "2015-03-13 23:48:00               0              0             1             0  "
       ]
      }
     ],
     "prompt_number": 17
    },
    {
     "cell_type": "code",
     "collapsed": false,
     "input": [
      "all_chicago_by_day = crimes.resample('D', how='sum')"
     ],
     "language": "python",
     "metadata": {},
     "outputs": [],
     "prompt_number": 18
    },
    {
     "cell_type": "code",
     "collapsed": false,
     "input": [
      "all_chicago_by_day[:5]"
     ],
     "language": "python",
     "metadata": {},
     "outputs": [
      {
       "html": [
        "<div style=\"max-height:1000px;max-width:1500px;overflow:auto;\">\n",
        "<table border=\"1\" class=\"dataframe\">\n",
        "  <thead>\n",
        "    <tr style=\"text-align: right;\">\n",
        "      <th></th>\n",
        "      <th>Arrest</th>\n",
        "      <th>Domestic</th>\n",
        "      <th>Violent Crimes</th>\n",
        "      <th>Severe Crimes</th>\n",
        "      <th>Minor Crimes</th>\n",
        "      <th>Petty Crimes</th>\n",
        "    </tr>\n",
        "    <tr>\n",
        "      <th>Date</th>\n",
        "      <th></th>\n",
        "      <th></th>\n",
        "      <th></th>\n",
        "      <th></th>\n",
        "      <th></th>\n",
        "      <th></th>\n",
        "    </tr>\n",
        "  </thead>\n",
        "  <tbody>\n",
        "    <tr>\n",
        "      <th>2014-09-28</th>\n",
        "      <td>112</td>\n",
        "      <td>76</td>\n",
        "      <td>141</td>\n",
        "      <td>214</td>\n",
        "      <td>33</td>\n",
        "      <td>63</td>\n",
        "    </tr>\n",
        "    <tr>\n",
        "      <th>2014-09-29</th>\n",
        "      <td>222</td>\n",
        "      <td>102</td>\n",
        "      <td>200</td>\n",
        "      <td>356</td>\n",
        "      <td>82</td>\n",
        "      <td>154</td>\n",
        "    </tr>\n",
        "    <tr>\n",
        "      <th>2014-09-30</th>\n",
        "      <td>208</td>\n",
        "      <td>101</td>\n",
        "      <td>173</td>\n",
        "      <td>362</td>\n",
        "      <td>83</td>\n",
        "      <td>141</td>\n",
        "    </tr>\n",
        "    <tr>\n",
        "      <th>2014-10-01</th>\n",
        "      <td>239</td>\n",
        "      <td>91</td>\n",
        "      <td>209</td>\n",
        "      <td>405</td>\n",
        "      <td>92</td>\n",
        "      <td>177</td>\n",
        "    </tr>\n",
        "    <tr>\n",
        "      <th>2014-10-02</th>\n",
        "      <td>191</td>\n",
        "      <td>113</td>\n",
        "      <td>195</td>\n",
        "      <td>386</td>\n",
        "      <td>72</td>\n",
        "      <td>136</td>\n",
        "    </tr>\n",
        "  </tbody>\n",
        "</table>\n",
        "</div>"
       ],
       "metadata": {},
       "output_type": "pyout",
       "prompt_number": 19,
       "text": [
        "            Arrest  Domestic  Violent Crimes  Severe Crimes  Minor Crimes  \\\n",
        "Date                                                                        \n",
        "2014-09-28     112        76             141            214            33   \n",
        "2014-09-29     222       102             200            356            82   \n",
        "2014-09-30     208       101             173            362            83   \n",
        "2014-10-01     239        91             209            405            92   \n",
        "2014-10-02     191       113             195            386            72   \n",
        "\n",
        "            Petty Crimes  \n",
        "Date                      \n",
        "2014-09-28            63  \n",
        "2014-09-29           154  \n",
        "2014-09-30           141  \n",
        "2014-10-01           177  \n",
        "2014-10-02           136  "
       ]
      }
     ],
     "prompt_number": 19
    },
    {
     "cell_type": "code",
     "collapsed": false,
     "input": [
      "sum_window = pd.rolling_sum(all_chicago_by_day['Violent Crimes'], 7)"
     ],
     "language": "python",
     "metadata": {},
     "outputs": [],
     "prompt_number": 20
    },
    {
     "cell_type": "code",
     "collapsed": false,
     "input": [
      "import matplotlib as plt"
     ],
     "language": "python",
     "metadata": {},
     "outputs": [],
     "prompt_number": 21
    },
    {
     "cell_type": "code",
     "collapsed": false,
     "input": [
      "%matplotlib inline"
     ],
     "language": "python",
     "metadata": {},
     "outputs": [],
     "prompt_number": 22
    },
    {
     "cell_type": "code",
     "collapsed": false,
     "input": [
      "try:\n",
      "    sum_window.plot()\n",
      "except:\n",
      "    pass"
     ],
     "language": "python",
     "metadata": {},
     "outputs": [
      {
       "metadata": {},
       "output_type": "display_data",
       "png": "[encoded data removed]",
       "text": [
        "<matplotlib.figure.Figure at 0x7fd38999e6d0>"
       ]
      }
     ],
     "prompt_number": 23
    },
    {
     "cell_type": "code",
     "collapsed": false,
     "input": [
      "all_chicago_by_day['Violent Crimes in Last Week'] = sum_window"
     ],
     "language": "python",
     "metadata": {},
     "outputs": [],
     "prompt_number": 24
    },
    {
     "cell_type": "code",
     "collapsed": false,
     "input": [
      "all_chicago_by_day[:10]"
     ],
     "language": "python",
     "metadata": {},
     "outputs": [
      {
       "html": [
        "<div style=\"max-height:1000px;max-width:1500px;overflow:auto;\">\n",
        "<table border=\"1\" class=\"dataframe\">\n",
        "  <thead>\n",
        "    <tr style=\"text-align: right;\">\n",
        "      <th></th>\n",
        "      <th>Arrest</th>\n",
        "      <th>Domestic</th>\n",
        "      <th>Violent Crimes</th>\n",
        "      <th>Severe Crimes</th>\n",
        "      <th>Minor Crimes</th>\n",
        "      <th>Petty Crimes</th>\n",
        "      <th>Violent Crimes in Last Week</th>\n",
        "    </tr>\n",
        "    <tr>\n",
        "      <th>Date</th>\n",
        "      <th></th>\n",
        "      <th></th>\n",
        "      <th></th>\n",
        "      <th></th>\n",
        "      <th></th>\n",
        "      <th></th>\n",
        "      <th></th>\n",
        "    </tr>\n",
        "  </thead>\n",
        "  <tbody>\n",
        "    <tr>\n",
        "      <th>2014-09-28</th>\n",
        "      <td>112</td>\n",
        "      <td>76</td>\n",
        "      <td>141</td>\n",
        "      <td>214</td>\n",
        "      <td>33</td>\n",
        "      <td>63</td>\n",
        "      <td>NaN</td>\n",
        "    </tr>\n",
        "    <tr>\n",
        "      <th>2014-09-29</th>\n",
        "      <td>222</td>\n",
        "      <td>102</td>\n",
        "      <td>200</td>\n",
        "      <td>356</td>\n",
        "      <td>82</td>\n",
        "      <td>154</td>\n",
        "      <td>NaN</td>\n",
        "    </tr>\n",
        "    <tr>\n",
        "      <th>2014-09-30</th>\n",
        "      <td>208</td>\n",
        "      <td>101</td>\n",
        "      <td>173</td>\n",
        "      <td>362</td>\n",
        "      <td>83</td>\n",
        "      <td>141</td>\n",
        "      <td>NaN</td>\n",
        "    </tr>\n",
        "    <tr>\n",
        "      <th>2014-10-01</th>\n",
        "      <td>239</td>\n",
        "      <td>91</td>\n",
        "      <td>209</td>\n",
        "      <td>405</td>\n",
        "      <td>92</td>\n",
        "      <td>177</td>\n",
        "      <td>NaN</td>\n",
        "    </tr>\n",
        "    <tr>\n",
        "      <th>2014-10-02</th>\n",
        "      <td>191</td>\n",
        "      <td>113</td>\n",
        "      <td>195</td>\n",
        "      <td>386</td>\n",
        "      <td>72</td>\n",
        "      <td>136</td>\n",
        "      <td>NaN</td>\n",
        "    </tr>\n",
        "    <tr>\n",
        "      <th>2014-10-03</th>\n",
        "      <td>223</td>\n",
        "      <td>93</td>\n",
        "      <td>174</td>\n",
        "      <td>362</td>\n",
        "      <td>75</td>\n",
        "      <td>151</td>\n",
        "      <td>NaN</td>\n",
        "    </tr>\n",
        "    <tr>\n",
        "      <th>2014-10-04</th>\n",
        "      <td>211</td>\n",
        "      <td>113</td>\n",
        "      <td>172</td>\n",
        "      <td>337</td>\n",
        "      <td>57</td>\n",
        "      <td>148</td>\n",
        "      <td>1264</td>\n",
        "    </tr>\n",
        "    <tr>\n",
        "      <th>2014-10-05</th>\n",
        "      <td>179</td>\n",
        "      <td>130</td>\n",
        "      <td>201</td>\n",
        "      <td>340</td>\n",
        "      <td>52</td>\n",
        "      <td>116</td>\n",
        "      <td>1324</td>\n",
        "    </tr>\n",
        "    <tr>\n",
        "      <th>2014-10-06</th>\n",
        "      <td>186</td>\n",
        "      <td>94</td>\n",
        "      <td>166</td>\n",
        "      <td>343</td>\n",
        "      <td>69</td>\n",
        "      <td>132</td>\n",
        "      <td>1290</td>\n",
        "    </tr>\n",
        "    <tr>\n",
        "      <th>2014-10-07</th>\n",
        "      <td>199</td>\n",
        "      <td>105</td>\n",
        "      <td>181</td>\n",
        "      <td>371</td>\n",
        "      <td>72</td>\n",
        "      <td>129</td>\n",
        "      <td>1298</td>\n",
        "    </tr>\n",
        "  </tbody>\n",
        "</table>\n",
        "</div>"
       ],
       "metadata": {},
       "output_type": "pyout",
       "prompt_number": 26,
       "text": [
        "            Arrest  Domestic  Violent Crimes  Severe Crimes  Minor Crimes  \\\n",
        "Date                                                                        \n",
        "2014-09-28     112        76             141            214            33   \n",
        "2014-09-29     222       102             200            356            82   \n",
        "2014-09-30     208       101             173            362            83   \n",
        "2014-10-01     239        91             209            405            92   \n",
        "2014-10-02     191       113             195            386            72   \n",
        "2014-10-03     223        93             174            362            75   \n",
        "2014-10-04     211       113             172            337            57   \n",
        "2014-10-05     179       130             201            340            52   \n",
        "2014-10-06     186        94             166            343            69   \n",
        "2014-10-07     199       105             181            371            72   \n",
        "\n",
        "            Petty Crimes  Violent Crimes in Last Week  \n",
        "Date                                                   \n",
        "2014-09-28            63                          NaN  \n",
        "2014-09-29           154                          NaN  \n",
        "2014-09-30           141                          NaN  \n",
        "2014-10-01           177                          NaN  \n",
        "2014-10-02           136                          NaN  \n",
        "2014-10-03           151                          NaN  \n",
        "2014-10-04           148                         1264  \n",
        "2014-10-05           116                         1324  \n",
        "2014-10-06           132                         1290  \n",
        "2014-10-07           129                         1298  "
       ]
      }
     ],
     "prompt_number": 26
    },
    {
     "cell_type": "code",
     "collapsed": false,
     "input": [
      "all_chicago_by_day.axes"
     ],
     "language": "python",
     "metadata": {},
     "outputs": [
      {
       "metadata": {},
       "output_type": "pyout",
       "prompt_number": 29,
       "text": [
        "[<class 'pandas.tseries.index.DatetimeIndex'>\n",
        "[2014-09-28, ..., 2015-03-13]\n",
        "Length: 167, Freq: D, Timezone: None,\n",
        " Index([u'Arrest', u'Domestic', u'Violent Crimes', u'Severe Crimes', u'Minor Crimes', u'Petty Crimes', u'Violent Crimes in Last Week'], dtype='object')]"
       ]
      }
     ],
     "prompt_number": 29
    },
    {
     "cell_type": "code",
     "collapsed": false,
     "input": [
      "list(all_chicago_by_day)"
     ],
     "language": "python",
     "metadata": {},
     "outputs": [
      {
       "metadata": {},
       "output_type": "pyout",
       "prompt_number": 30,
       "text": [
        "['Arrest',\n",
        " 'Domestic',\n",
        " 'Violent Crimes',\n",
        " 'Severe Crimes',\n",
        " 'Minor Crimes',\n",
        " 'Petty Crimes',\n",
        " 'Violent Crimes in Last Week']"
       ]
      }
     ],
     "prompt_number": 30
    },
    {
     "cell_type": "code",
     "collapsed": false,
     "input": [],
     "language": "python",
     "metadata": {},
     "outputs": []
    }
   ],
   "metadata": {}
  }
 ]
}