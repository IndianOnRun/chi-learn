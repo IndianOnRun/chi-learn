{
 "cells": [
  {
   "cell_type": "code",
   "execution_count": 1,
   "metadata": {
    "collapsed": false
   },
   "outputs": [],
   "source": [
    "import imp\n",
    "\n",
    "munge = imp.load_source('munge', '../clearn/munge.py')\n",
    "from sklearn.naive_bayes import GaussianNB"
   ]
  },
  {
   "cell_type": "code",
   "execution_count": 2,
   "metadata": {
    "collapsed": true
   },
   "outputs": [],
   "source": [
    "import pandas as pd"
   ]
  },
  {
   "cell_type": "code",
   "execution_count": 3,
   "metadata": {
    "collapsed": true
   },
   "outputs": [],
   "source": [
    "data_frame = pd.read_csv('../data/crimeSample.csv')"
   ]
  },
  {
   "cell_type": "code",
   "execution_count": 4,
   "metadata": {
    "collapsed": false
   },
   "outputs": [
    {
     "data": {
      "text/html": [
       "<div style=\"max-height:1000px;max-width:1500px;overflow:auto;\">\n",
       "<table border=\"1\" class=\"dataframe\">\n",
       "  <thead>\n",
       "    <tr style=\"text-align: right;\">\n",
       "      <th></th>\n",
       "      <th>ID</th>\n",
       "      <th>Case Number</th>\n",
       "      <th>Date</th>\n",
       "      <th>Block</th>\n",
       "      <th>IUCR</th>\n",
       "      <th>Primary Type</th>\n",
       "      <th>Description</th>\n",
       "      <th>Location Description</th>\n",
       "      <th>Arrest</th>\n",
       "      <th>Domestic</th>\n",
       "      <th>...</th>\n",
       "      <th>Ward</th>\n",
       "      <th>Community Area</th>\n",
       "      <th>FBI Code</th>\n",
       "      <th>X Coordinate</th>\n",
       "      <th>Y Coordinate</th>\n",
       "      <th>Year</th>\n",
       "      <th>Updated On</th>\n",
       "      <th>Latitude</th>\n",
       "      <th>Longitude</th>\n",
       "      <th>Location</th>\n",
       "    </tr>\n",
       "  </thead>\n",
       "  <tbody>\n",
       "    <tr>\n",
       "      <th>0</th>\n",
       "      <td>9993618</td>\n",
       "      <td>HY183647</td>\n",
       "      <td>03/13/2015 11:56:00 PM</td>\n",
       "      <td>022XX W 21ST ST</td>\n",
       "      <td>051A</td>\n",
       "      <td>ASSAULT</td>\n",
       "      <td>AGGRAVATED: HANDGUN</td>\n",
       "      <td>STREET</td>\n",
       "      <td>False</td>\n",
       "      <td>False</td>\n",
       "      <td>...</td>\n",
       "      <td>25</td>\n",
       "      <td>31</td>\n",
       "      <td>04A</td>\n",
       "      <td>1161498</td>\n",
       "      <td>1889981</td>\n",
       "      <td>2015</td>\n",
       "      <td>03/20/2015 12:42:30 PM</td>\n",
       "      <td>41.853785</td>\n",
       "      <td>-87.682726</td>\n",
       "      <td>(41.853785453, -87.682726178)</td>\n",
       "    </tr>\n",
       "    <tr>\n",
       "      <th>1</th>\n",
       "      <td>9993559</td>\n",
       "      <td>HY183629</td>\n",
       "      <td>03/13/2015 11:56:00 PM</td>\n",
       "      <td>049XX N AUSTIN AVE</td>\n",
       "      <td>2022</td>\n",
       "      <td>NARCOTICS</td>\n",
       "      <td>POSS: COCAINE</td>\n",
       "      <td>ALLEY</td>\n",
       "      <td>True</td>\n",
       "      <td>False</td>\n",
       "      <td>...</td>\n",
       "      <td>45</td>\n",
       "      <td>11</td>\n",
       "      <td>18</td>\n",
       "      <td>1135233</td>\n",
       "      <td>1932723</td>\n",
       "      <td>2015</td>\n",
       "      <td>03/20/2015 12:42:30 PM</td>\n",
       "      <td>41.971580</td>\n",
       "      <td>-87.778114</td>\n",
       "      <td>(41.971580323, -87.778114286)</td>\n",
       "    </tr>\n",
       "    <tr>\n",
       "      <th>2</th>\n",
       "      <td>9993811</td>\n",
       "      <td>HY183931</td>\n",
       "      <td>03/13/2015 11:52:00 PM</td>\n",
       "      <td>002XX N KILBOURN AVE</td>\n",
       "      <td>1320</td>\n",
       "      <td>CRIMINAL DAMAGE</td>\n",
       "      <td>TO VEHICLE</td>\n",
       "      <td>STREET</td>\n",
       "      <td>False</td>\n",
       "      <td>False</td>\n",
       "      <td>...</td>\n",
       "      <td>28</td>\n",
       "      <td>26</td>\n",
       "      <td>14</td>\n",
       "      <td>1146318</td>\n",
       "      <td>1900711</td>\n",
       "      <td>2015</td>\n",
       "      <td>03/20/2015 12:42:30 PM</td>\n",
       "      <td>41.883532</td>\n",
       "      <td>-87.738170</td>\n",
       "      <td>(41.883531998, -87.738169853)</td>\n",
       "    </tr>\n",
       "    <tr>\n",
       "      <th>3</th>\n",
       "      <td>9993675</td>\n",
       "      <td>HY183675</td>\n",
       "      <td>03/13/2015 11:50:00 PM</td>\n",
       "      <td>046XX S LAKE PARK AVE</td>\n",
       "      <td>0486</td>\n",
       "      <td>BATTERY</td>\n",
       "      <td>DOMESTIC BATTERY SIMPLE</td>\n",
       "      <td>STREET</td>\n",
       "      <td>False</td>\n",
       "      <td>True</td>\n",
       "      <td>...</td>\n",
       "      <td>4</td>\n",
       "      <td>39</td>\n",
       "      <td>08B</td>\n",
       "      <td>1185621</td>\n",
       "      <td>1874728</td>\n",
       "      <td>2015</td>\n",
       "      <td>03/20/2015 12:42:30 PM</td>\n",
       "      <td>41.811395</td>\n",
       "      <td>-87.594668</td>\n",
       "      <td>(41.81139462, -87.594668281)</td>\n",
       "    </tr>\n",
       "    <tr>\n",
       "      <th>4</th>\n",
       "      <td>9993703</td>\n",
       "      <td>HY183626</td>\n",
       "      <td>03/13/2015 11:48:00 PM</td>\n",
       "      <td>030XX N KOLMAR AVE</td>\n",
       "      <td>1330</td>\n",
       "      <td>CRIMINAL TRESPASS</td>\n",
       "      <td>TO LAND</td>\n",
       "      <td>RESIDENTIAL YARD (FRONT/BACK)</td>\n",
       "      <td>False</td>\n",
       "      <td>False</td>\n",
       "      <td>...</td>\n",
       "      <td>31</td>\n",
       "      <td>20</td>\n",
       "      <td>26</td>\n",
       "      <td>1145566</td>\n",
       "      <td>1919717</td>\n",
       "      <td>2015</td>\n",
       "      <td>03/20/2015 12:42:30 PM</td>\n",
       "      <td>41.935701</td>\n",
       "      <td>-87.740449</td>\n",
       "      <td>(41.935700728, -87.740448872)</td>\n",
       "    </tr>\n",
       "  </tbody>\n",
       "</table>\n",
       "<p>5 rows × 22 columns</p>\n",
       "</div>"
      ],
      "text/plain": [
       "        ID Case Number                    Date                  Block  IUCR  \\\n",
       "0  9993618    HY183647  03/13/2015 11:56:00 PM        022XX W 21ST ST  051A   \n",
       "1  9993559    HY183629  03/13/2015 11:56:00 PM     049XX N AUSTIN AVE  2022   \n",
       "2  9993811    HY183931  03/13/2015 11:52:00 PM   002XX N KILBOURN AVE  1320   \n",
       "3  9993675    HY183675  03/13/2015 11:50:00 PM  046XX S LAKE PARK AVE  0486   \n",
       "4  9993703    HY183626  03/13/2015 11:48:00 PM     030XX N KOLMAR AVE  1330   \n",
       "\n",
       "        Primary Type              Description           Location Description  \\\n",
       "0            ASSAULT      AGGRAVATED: HANDGUN                         STREET   \n",
       "1          NARCOTICS            POSS: COCAINE                          ALLEY   \n",
       "2    CRIMINAL DAMAGE               TO VEHICLE                         STREET   \n",
       "3            BATTERY  DOMESTIC BATTERY SIMPLE                         STREET   \n",
       "4  CRIMINAL TRESPASS                  TO LAND  RESIDENTIAL YARD (FRONT/BACK)   \n",
       "\n",
       "  Arrest Domestic              ...                Ward  Community Area  \\\n",
       "0  False    False              ...                  25              31   \n",
       "1   True    False              ...                  45              11   \n",
       "2  False    False              ...                  28              26   \n",
       "3  False     True              ...                   4              39   \n",
       "4  False    False              ...                  31              20   \n",
       "\n",
       "   FBI Code  X Coordinate Y Coordinate  Year              Updated On  \\\n",
       "0       04A       1161498      1889981  2015  03/20/2015 12:42:30 PM   \n",
       "1        18       1135233      1932723  2015  03/20/2015 12:42:30 PM   \n",
       "2        14       1146318      1900711  2015  03/20/2015 12:42:30 PM   \n",
       "3       08B       1185621      1874728  2015  03/20/2015 12:42:30 PM   \n",
       "4        26       1145566      1919717  2015  03/20/2015 12:42:30 PM   \n",
       "\n",
       "    Latitude  Longitude                       Location  \n",
       "0  41.853785 -87.682726  (41.853785453, -87.682726178)  \n",
       "1  41.971580 -87.778114  (41.971580323, -87.778114286)  \n",
       "2  41.883532 -87.738170  (41.883531998, -87.738169853)  \n",
       "3  41.811395 -87.594668   (41.81139462, -87.594668281)  \n",
       "4  41.935701 -87.740449  (41.935700728, -87.740448872)  \n",
       "\n",
       "[5 rows x 22 columns]"
      ]
     },
     "execution_count": 4,
     "metadata": {},
     "output_type": "execute_result"
    }
   ],
   "source": [
    "data_frame[:5]"
   ]
  },
  {
   "cell_type": "code",
   "execution_count": 5,
   "metadata": {
    "collapsed": false
   },
   "outputs": [
    {
     "name": "stderr",
     "output_type": "stream",
     "text": [
      "../clearn/munge.py:53: SettingWithCopyWarning: \n",
      "A value is trying to be set on a copy of a slice from a DataFrame.\n",
      "Try using .loc[row_indexer,col_indexer] = value instead\n",
      "\n",
      "See the the caveats in the documentation: http://pandas.pydata.org/pandas-docs/stable/indexing.html#indexing-view-versus-copy\n",
      "  data_frame['Community Area'] = data_frame['Community Area'].map(lambda num: str(int(num)))\n",
      "../clearn/munge.py:65: SettingWithCopyWarning: \n",
      "A value is trying to be set on a copy of a slice from a DataFrame.\n",
      "Try using .loc[row_indexer,col_indexer] = value instead\n",
      "\n",
      "See the the caveats in the documentation: http://pandas.pydata.org/pandas-docs/stable/indexing.html#indexing-view-versus-copy\n",
      "  data_frame[col_name] = data_frame[col_name].map(lambda unbinned: unbinned_to_binned[unbinned])\n"
     ]
    },
    {
     "name": "stdout",
     "output_type": "stream",
     "text": [
      "CPU times: user 20.4 s, sys: 188 ms, total: 20.6 s\n",
      "Wall time: 20.7 s\n"
     ]
    },
    {
     "name": "stderr",
     "output_type": "stream",
     "text": [
      "../clearn/munge.py:138: SettingWithCopyWarning: \n",
      "A value is trying to be set on a copy of a slice from a DataFrame.\n",
      "Try using .loc[row_indexer,col_indexer] = value instead\n",
      "\n",
      "See the the caveats in the documentation: http://pandas.pydata.org/pandas-docs/stable/indexing.html#indexing-view-versus-copy\n",
      "  timestamps[label + ' Crimes'] = [int(classification == label) for classification in timestamps['Primary Type']]\n"
     ]
    }
   ],
   "source": [
    "%time data_targets_pairs_by_area = munge.make_raw_data_target_pairs('../data/crimeSample.csv')"
   ]
  },
  {
   "cell_type": "code",
   "execution_count": 6,
   "metadata": {
    "collapsed": true
   },
   "outputs": [],
   "source": [
    "master_dict = munge.make_training_set('../data/crimeSample.csv')"
   ]
  },
  {
   "cell_type": "code",
   "execution_count": 8,
   "metadata": {
    "collapsed": false
   },
   "outputs": [
    {
     "data": {
      "text/plain": [
       "dict_keys(['Archer Heights', 'Irving Park', 'Roseland', 'Lincoln Square', 'Washington Park', 'Hegewisch', 'West Law', 'Beverly', 'Hyde Park', 'Belmont Cragin', 'South Deering', 'Montclare', 'South Lawndale', 'Douglas', 'Near North Side', 'South Shore', 'McKinley Park', 'West Pullman', 'South Chicago', 'Oakland', 'East Side', 'Burnside', 'Hermosa', 'Grand Boulevard', 'Chicago Lawn', 'Mount Greenwood', 'Avondale', 'Jefferson Park', 'West Garfield park', 'New City', 'Albany Park', 'Woodlawn', 'Near West Side', 'North Center', 'Lincoln Park', 'Loop', 'West Englewood', 'Pullman', 'Humboldt Park', 'Ashburn', 'Dunning', 'Forest Glen', 'Englewood', \"O'Hare\", 'Near South Side', 'Morgan Park', 'West Elsdon', 'Avalon Park', 'Kenwood', 'Brighton Park', 'Edgewater', 'Riverdale', 'Garfield Ridge', 'Clearing', 'Austin', 'Greater Grand Crossing', 'Chatham', 'Auburn Gresham', 'Uptown', 'Rogers Park', 'Lake View', 'Lower West Side', 'Gage Park', 'Logan Square', 'North Lawndale', 'Calumet Heights', 'North Park', 'Fuller Park', 'Edison Park', 'West Town', 'Norwood Park', 'West Ridge', 'East Garfield Park', 'Bridgeport', 'Portage Park', 'Washington Heights', 'Armour Square'])"
      ]
     },
     "execution_count": 8,
     "metadata": {},
     "output_type": "execute_result"
    }
   ],
   "source": [
    "master_dict.keys()"
   ]
  },
  {
   "cell_type": "code",
   "execution_count": 9,
   "metadata": {
    "collapsed": false
   },
   "outputs": [
    {
     "data": {
      "text/html": [
       "<div style=\"max-height:1000px;max-width:1500px;overflow:auto;\">\n",
       "<table border=\"1\" class=\"dataframe\">\n",
       "  <thead>\n",
       "    <tr style=\"text-align: right;\">\n",
       "      <th></th>\n",
       "      <th>Arrest</th>\n",
       "      <th>Domestic</th>\n",
       "      <th>Violent Crimes</th>\n",
       "      <th>Severe Crimes</th>\n",
       "      <th>Minor Crimes</th>\n",
       "      <th>Petty Crimes</th>\n",
       "      <th>Month</th>\n",
       "      <th>Weekday</th>\n",
       "      <th>Violent Crimes in Last Week</th>\n",
       "      <th>Violent Crimes in Last Month</th>\n",
       "      <th>...</th>\n",
       "      <th>Chicago Minor Crimes</th>\n",
       "      <th>Chicago Petty Crimes</th>\n",
       "      <th>Chicago Violent Crimes in Last Week</th>\n",
       "      <th>Chicago Violent Crimes in Last Month</th>\n",
       "      <th>Chicago Severe Crimes in Last Week</th>\n",
       "      <th>Chicago Severe Crimes in Last Month</th>\n",
       "      <th>Chicago Minor Crimes in Last Week</th>\n",
       "      <th>Chicago Minor Crimes in Last Month</th>\n",
       "      <th>Chicago Petty Crimes in Last Week</th>\n",
       "      <th>Chicago Petty Crimes in Last Month</th>\n",
       "    </tr>\n",
       "    <tr>\n",
       "      <th>Date</th>\n",
       "      <th></th>\n",
       "      <th></th>\n",
       "      <th></th>\n",
       "      <th></th>\n",
       "      <th></th>\n",
       "      <th></th>\n",
       "      <th></th>\n",
       "      <th></th>\n",
       "      <th></th>\n",
       "      <th></th>\n",
       "      <th></th>\n",
       "      <th></th>\n",
       "      <th></th>\n",
       "      <th></th>\n",
       "      <th></th>\n",
       "      <th></th>\n",
       "      <th></th>\n",
       "      <th></th>\n",
       "      <th></th>\n",
       "      <th></th>\n",
       "      <th></th>\n",
       "    </tr>\n",
       "  </thead>\n",
       "  <tbody>\n",
       "    <tr>\n",
       "      <th>2014-10-28</th>\n",
       "      <td>1</td>\n",
       "      <td>0</td>\n",
       "      <td>1</td>\n",
       "      <td>2</td>\n",
       "      <td>0</td>\n",
       "      <td>1</td>\n",
       "      <td>10</td>\n",
       "      <td>1</td>\n",
       "      <td>7</td>\n",
       "      <td>33</td>\n",
       "      <td>...</td>\n",
       "      <td>70</td>\n",
       "      <td>133</td>\n",
       "      <td>1378</td>\n",
       "      <td>5576</td>\n",
       "      <td>2601</td>\n",
       "      <td>10830</td>\n",
       "      <td>498</td>\n",
       "      <td>2131</td>\n",
       "      <td>951</td>\n",
       "      <td>4154</td>\n",
       "    </tr>\n",
       "    <tr>\n",
       "      <th>2014-10-29</th>\n",
       "      <td>2</td>\n",
       "      <td>0</td>\n",
       "      <td>2</td>\n",
       "      <td>4</td>\n",
       "      <td>0</td>\n",
       "      <td>0</td>\n",
       "      <td>10</td>\n",
       "      <td>2</td>\n",
       "      <td>9</td>\n",
       "      <td>34</td>\n",
       "      <td>...</td>\n",
       "      <td>78</td>\n",
       "      <td>128</td>\n",
       "      <td>1398</td>\n",
       "      <td>5550</td>\n",
       "      <td>2649</td>\n",
       "      <td>10876</td>\n",
       "      <td>500</td>\n",
       "      <td>2127</td>\n",
       "      <td>951</td>\n",
       "      <td>4128</td>\n",
       "    </tr>\n",
       "    <tr>\n",
       "      <th>2014-10-30</th>\n",
       "      <td>1</td>\n",
       "      <td>1</td>\n",
       "      <td>2</td>\n",
       "      <td>2</td>\n",
       "      <td>1</td>\n",
       "      <td>0</td>\n",
       "      <td>10</td>\n",
       "      <td>3</td>\n",
       "      <td>10</td>\n",
       "      <td>36</td>\n",
       "      <td>...</td>\n",
       "      <td>64</td>\n",
       "      <td>146</td>\n",
       "      <td>1404</td>\n",
       "      <td>5560</td>\n",
       "      <td>2647</td>\n",
       "      <td>10879</td>\n",
       "      <td>495</td>\n",
       "      <td>2108</td>\n",
       "      <td>951</td>\n",
       "      <td>4133</td>\n",
       "    </tr>\n",
       "    <tr>\n",
       "      <th>2014-10-31</th>\n",
       "      <td>3</td>\n",
       "      <td>0</td>\n",
       "      <td>3</td>\n",
       "      <td>2</td>\n",
       "      <td>0</td>\n",
       "      <td>0</td>\n",
       "      <td>10</td>\n",
       "      <td>4</td>\n",
       "      <td>13</td>\n",
       "      <td>38</td>\n",
       "      <td>...</td>\n",
       "      <td>80</td>\n",
       "      <td>141</td>\n",
       "      <td>1352</td>\n",
       "      <td>5518</td>\n",
       "      <td>2666</td>\n",
       "      <td>10890</td>\n",
       "      <td>500</td>\n",
       "      <td>2096</td>\n",
       "      <td>918</td>\n",
       "      <td>4097</td>\n",
       "    </tr>\n",
       "    <tr>\n",
       "      <th>2014-11-01</th>\n",
       "      <td>1</td>\n",
       "      <td>1</td>\n",
       "      <td>3</td>\n",
       "      <td>4</td>\n",
       "      <td>0</td>\n",
       "      <td>0</td>\n",
       "      <td>11</td>\n",
       "      <td>5</td>\n",
       "      <td>14</td>\n",
       "      <td>39</td>\n",
       "      <td>...</td>\n",
       "      <td>66</td>\n",
       "      <td>166</td>\n",
       "      <td>1342</td>\n",
       "      <td>5530</td>\n",
       "      <td>2679</td>\n",
       "      <td>10891</td>\n",
       "      <td>487</td>\n",
       "      <td>2090</td>\n",
       "      <td>956</td>\n",
       "      <td>4127</td>\n",
       "    </tr>\n",
       "  </tbody>\n",
       "</table>\n",
       "<p>5 rows × 31 columns</p>\n",
       "</div>"
      ],
      "text/plain": [
       "            Arrest  Domestic  Violent Crimes  Severe Crimes  Minor Crimes  \\\n",
       "Date                                                                        \n",
       "2014-10-28       1         0               1              2             0   \n",
       "2014-10-29       2         0               2              4             0   \n",
       "2014-10-30       1         1               2              2             1   \n",
       "2014-10-31       3         0               3              2             0   \n",
       "2014-11-01       1         1               3              4             0   \n",
       "\n",
       "            Petty Crimes Month Weekday  Violent Crimes in Last Week  \\\n",
       "Date                                                                  \n",
       "2014-10-28             1    10       1                            7   \n",
       "2014-10-29             0    10       2                            9   \n",
       "2014-10-30             0    10       3                           10   \n",
       "2014-10-31             0    10       4                           13   \n",
       "2014-11-01             0    11       5                           14   \n",
       "\n",
       "            Violent Crimes in Last Month                 ...                  \\\n",
       "Date                                                     ...                   \n",
       "2014-10-28                            33                 ...                   \n",
       "2014-10-29                            34                 ...                   \n",
       "2014-10-30                            36                 ...                   \n",
       "2014-10-31                            38                 ...                   \n",
       "2014-11-01                            39                 ...                   \n",
       "\n",
       "            Chicago Minor Crimes  Chicago Petty Crimes  \\\n",
       "Date                                                     \n",
       "2014-10-28                    70                   133   \n",
       "2014-10-29                    78                   128   \n",
       "2014-10-30                    64                   146   \n",
       "2014-10-31                    80                   141   \n",
       "2014-11-01                    66                   166   \n",
       "\n",
       "            Chicago Violent Crimes in Last Week  \\\n",
       "Date                                              \n",
       "2014-10-28                                 1378   \n",
       "2014-10-29                                 1398   \n",
       "2014-10-30                                 1404   \n",
       "2014-10-31                                 1352   \n",
       "2014-11-01                                 1342   \n",
       "\n",
       "            Chicago Violent Crimes in Last Month  \\\n",
       "Date                                               \n",
       "2014-10-28                                  5576   \n",
       "2014-10-29                                  5550   \n",
       "2014-10-30                                  5560   \n",
       "2014-10-31                                  5518   \n",
       "2014-11-01                                  5530   \n",
       "\n",
       "            Chicago Severe Crimes in Last Week  \\\n",
       "Date                                             \n",
       "2014-10-28                                2601   \n",
       "2014-10-29                                2649   \n",
       "2014-10-30                                2647   \n",
       "2014-10-31                                2666   \n",
       "2014-11-01                                2679   \n",
       "\n",
       "            Chicago Severe Crimes in Last Month  \\\n",
       "Date                                              \n",
       "2014-10-28                                10830   \n",
       "2014-10-29                                10876   \n",
       "2014-10-30                                10879   \n",
       "2014-10-31                                10890   \n",
       "2014-11-01                                10891   \n",
       "\n",
       "           Chicago Minor Crimes in Last Week  \\\n",
       "Date                                           \n",
       "2014-10-28                               498   \n",
       "2014-10-29                               500   \n",
       "2014-10-30                               495   \n",
       "2014-10-31                               500   \n",
       "2014-11-01                               487   \n",
       "\n",
       "            Chicago Minor Crimes in Last Month  \\\n",
       "Date                                             \n",
       "2014-10-28                                2131   \n",
       "2014-10-29                                2127   \n",
       "2014-10-30                                2108   \n",
       "2014-10-31                                2096   \n",
       "2014-11-01                                2090   \n",
       "\n",
       "            Chicago Petty Crimes in Last Week  \\\n",
       "Date                                            \n",
       "2014-10-28                                951   \n",
       "2014-10-29                                951   \n",
       "2014-10-30                                951   \n",
       "2014-10-31                                918   \n",
       "2014-11-01                                956   \n",
       "\n",
       "            Chicago Petty Crimes in Last Month  \n",
       "Date                                            \n",
       "2014-10-28                                4154  \n",
       "2014-10-29                                4128  \n",
       "2014-10-30                                4133  \n",
       "2014-10-31                                4097  \n",
       "2014-11-01                                4127  \n",
       "\n",
       "[5 rows x 31 columns]"
      ]
     },
     "execution_count": 9,
     "metadata": {},
     "output_type": "execute_result"
    }
   ],
   "source": [
    "master_dict['Edgewater'][:5]"
   ]
  },
  {
   "cell_type": "markdown",
   "metadata": {},
   "source": []
  },
  {
   "cell_type": "code",
   "execution_count": 3,
   "metadata": {
    "collapsed": false
   },
   "outputs": [],
   "source": [
    "data, targets = data_targets_pairs_by_area['Kenwood']"
   ]
  },
  {
   "cell_type": "code",
   "execution_count": 4,
   "metadata": {
    "collapsed": false
   },
   "outputs": [
    {
     "data": {
      "text/plain": [
       "5154"
      ]
     },
     "execution_count": 4,
     "metadata": {},
     "output_type": "execute_result"
    }
   ],
   "source": [
    "len(data)"
   ]
  },
  {
   "cell_type": "code",
   "execution_count": 5,
   "metadata": {
    "collapsed": false
   },
   "outputs": [
    {
     "data": {
      "text/plain": [
       "5154"
      ]
     },
     "execution_count": 5,
     "metadata": {},
     "output_type": "execute_result"
    }
   ],
   "source": [
    "len(targets)"
   ]
  },
  {
   "cell_type": "code",
   "execution_count": 6,
   "metadata": {
    "collapsed": false
   },
   "outputs": [],
   "source": [
    "gnb = GaussianNB()"
   ]
  },
  {
   "cell_type": "code",
   "execution_count": 7,
   "metadata": {
    "collapsed": false
   },
   "outputs": [],
   "source": [
    "y_pred = gnb.fit(data, targets).predict(data)"
   ]
  },
  {
   "cell_type": "code",
   "execution_count": 8,
   "metadata": {
    "collapsed": false
   },
   "outputs": [
    {
     "name": "stdout",
     "output_type": "stream",
     "text": [
      "Number of mislabeled points out of a total 5154 points : 1141\n"
     ]
    }
   ],
   "source": [
    "print(\"Number of mislabeled points out of a total %d points : %d\" % (len(data),(targets != y_pred).sum()))"
   ]
  },
  {
   "cell_type": "code",
   "execution_count": null,
   "metadata": {
    "collapsed": false
   },
   "outputs": [],
   "source": [
    "data"
   ]
  }
 ],
 "metadata": {
  "kernelspec": {
   "display_name": "Python 3",
   "language": "python",
   "name": "python3"
  },
  "language_info": {
   "codemirror_mode": {
    "name": "ipython",
    "version": 3
   },
   "file_extension": ".py",
   "mimetype": "text/x-python",
   "name": "python",
   "nbconvert_exporter": "python",
   "pygments_lexer": "ipython3",
   "version": "3.4.0"
  }
 },
 "nbformat": 4,
 "nbformat_minor": 0
}
