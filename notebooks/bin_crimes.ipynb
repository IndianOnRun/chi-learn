{
 "cells": [
  {
   "cell_type": "code",
   "execution_count": 1,
   "metadata": {
    "collapsed": false
   },
   "outputs": [],
   "source": [
    "import pandas as pd"
   ]
  },
  {
   "cell_type": "code",
   "execution_count": 3,
   "metadata": {
    "collapsed": false
   },
   "outputs": [
    {
     "name": "stderr",
     "output_type": "stream",
     "text": [
      "/usr/local/lib/python2.7/dist-packages/pandas/io/parsers.py:1164: DtypeWarning: Columns (13) have mixed types. Specify dtype option on import or set low_memory=False.\n",
      "  data = self._reader.read(nrows)\n"
     ]
    }
   ],
   "source": [
    "# This is the raw 1.3 GB file downloaded from Chicago's data portal\n",
    "# Go to https://data.cityofchicago.org/Public-Safety/Crimes-2001-to-present/ijzp-q8t2\n",
    "# And export csv to get the latest copy\n",
    "raw_crimes = pd.read_csv('../data/Crimes_-_2001_to_present.csv')"
   ]
  },
  {
   "cell_type": "code",
   "execution_count": 4,
   "metadata": {
    "collapsed": false
   },
   "outputs": [
    {
     "data": {
      "text/plain": [
       "{'ARSON',\n",
       " 'ASSAULT',\n",
       " 'BATTERY',\n",
       " 'BURGLARY',\n",
       " 'CONCEALED CARRY LICENSE VIOLATION',\n",
       " 'CRIM SEXUAL ASSAULT',\n",
       " 'CRIMINAL DAMAGE',\n",
       " 'CRIMINAL TRESPASS',\n",
       " 'DECEPTIVE PRACTICE',\n",
       " 'DOMESTIC VIOLENCE',\n",
       " 'GAMBLING',\n",
       " 'HOMICIDE',\n",
       " 'HUMAN TRAFFICKING',\n",
       " 'INTERFERENCE WITH PUBLIC OFFICER',\n",
       " 'INTIMIDATION',\n",
       " 'KIDNAPPING',\n",
       " 'LIQUOR LAW VIOLATION',\n",
       " 'MOTOR VEHICLE THEFT',\n",
       " 'NARCOTICS',\n",
       " 'NON - CRIMINAL',\n",
       " 'NON-CRIMINAL',\n",
       " 'NON-CRIMINAL (SUBJECT SPECIFIED)',\n",
       " 'OBSCENITY',\n",
       " 'OFFENSE INVOLVING CHILDREN',\n",
       " 'OTHER NARCOTIC VIOLATION',\n",
       " 'OTHER OFFENSE',\n",
       " 'PROSTITUTION',\n",
       " 'PUBLIC INDECENCY',\n",
       " 'PUBLIC PEACE VIOLATION',\n",
       " 'RITUALISM',\n",
       " 'ROBBERY',\n",
       " 'SEX OFFENSE',\n",
       " 'STALKING',\n",
       " 'THEFT',\n",
       " 'WEAPONS VIOLATION'}"
      ]
     },
     "execution_count": 4,
     "metadata": {},
     "output_type": "execute_result"
    }
   ],
   "source": [
    "crime_type_set = set(raw_crimes['Primary Type'])\n",
    "crime_type_set"
   ]
  },
  {
   "cell_type": "markdown",
   "metadata": {},
   "source": [
    "From here, I dumped the types into crime_bins.csv and categorized by hand. I used [this breakdown](http://gis.chicagopolice.org/clearmap/crime_types.html) for help."
   ]
  }
 ],
 "metadata": {
  "kernelspec": {
   "display_name": "Python 3",
   "language": "python",
   "name": "python3"
  },
  "language_info": {
   "codemirror_mode": {
    "name": "ipython",
    "version": 3
   },
   "file_extension": ".py",
   "mimetype": "text/x-python",
   "name": "python",
   "nbconvert_exporter": "python",
   "pygments_lexer": "ipython3",
   "version": "3.4.0"
  }
 },
 "nbformat": 4,
 "nbformat_minor": 0
}
