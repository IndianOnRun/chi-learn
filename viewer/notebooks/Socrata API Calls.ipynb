{
 "cells": [
  {
   "cell_type": "code",
   "execution_count": 2,
   "metadata": {
    "collapsed": true
   },
   "outputs": [],
   "source": [
    "import requests"
   ]
  },
  {
   "cell_type": "code",
   "execution_count": 3,
   "metadata": {
    "collapsed": true
   },
   "outputs": [],
   "source": [
    "# Grab a crime committed on March 30, 2015\n",
    "response  = requests.get('https://data.cityofchicago.org/resource/ijzp-q8t2.json?id=10014752')"
   ]
  },
  {
   "cell_type": "code",
   "execution_count": 4,
   "metadata": {
    "collapsed": false
   },
   "outputs": [
    {
     "data": {
      "text/plain": [
       "<Response [200]>"
      ]
     },
     "execution_count": 4,
     "metadata": {},
     "output_type": "execute_result"
    }
   ],
   "source": [
    "response"
   ]
  },
  {
   "cell_type": "code",
   "execution_count": 5,
   "metadata": {
    "collapsed": false
   },
   "outputs": [
    {
     "data": {
      "text/plain": [
       "'[ {\\n  \"case_number\" : \"HY204478\",\\n  \"beat\" : \"2525\",\\n  \"location\" : {\\n    \"needs_recoding\" : false,\\n    \"longitude\" : \"-87.726612888\",\\n    \"latitude\" : \"41.924300288\",\\n    \"human_address\" : \"{\\\\\"address\\\\\":\\\\\"\\\\\",\\\\\"city\\\\\":\\\\\"\\\\\",\\\\\"state\\\\\":\\\\\"\\\\\",\\\\\"zip\\\\\":\\\\\"\\\\\"}\"\\n  },\\n  \"x_coordinate\" : \"1149360\",\\n  \"block\" : \"023XX N PULASKI RD\",\\n  \"primary_type\" : \"OTHER OFFENSE\",\\n  \"location_description\" : \"STREET\",\\n  \"date\" : \"2015-03-30T23:55:00\",\\n  \"iucr\" : \"4625\",\\n  \"domestic\" : false,\\n  \"id\" : \"10014752\",\\n  \"ward\" : \"30\",\\n  \"arrest\" : true,\\n  \"description\" : \"PAROLE VIOLATION\",\\n  \"y_coordinate\" : \"1915589\",\\n  \"updated_on\" : \"2015-04-06T12:56:12\",\\n  \"fbi_code\" : \"26\",\\n  \"longitude\" : \"-87.726612888\",\\n  \"year\" : \"2015\",\\n  \"community_area\" : \"22\",\\n  \"latitude\" : \"41.924300288\",\\n  \"district\" : \"025\"\\n}\\n ]'"
      ]
     },
     "execution_count": 5,
     "metadata": {},
     "output_type": "execute_result"
    }
   ],
   "source": [
    "response.text"
   ]
  },
  {
   "cell_type": "code",
   "execution_count": 6,
   "metadata": {
    "collapsed": true
   },
   "outputs": [],
   "source": [
    "import json"
   ]
  },
  {
   "cell_type": "code",
   "execution_count": 7,
   "metadata": {
    "collapsed": false
   },
   "outputs": [],
   "source": [
    "crime = json.loads(response.text)"
   ]
  },
  {
   "cell_type": "code",
   "execution_count": 8,
   "metadata": {
    "collapsed": false
   },
   "outputs": [
    {
     "data": {
      "text/plain": [
       "[{'arrest': True,\n",
       "  'beat': '2525',\n",
       "  'block': '023XX N PULASKI RD',\n",
       "  'case_number': 'HY204478',\n",
       "  'community_area': '22',\n",
       "  'date': '2015-03-30T23:55:00',\n",
       "  'description': 'PAROLE VIOLATION',\n",
       "  'district': '025',\n",
       "  'domestic': False,\n",
       "  'fbi_code': '26',\n",
       "  'id': '10014752',\n",
       "  'iucr': '4625',\n",
       "  'latitude': '41.924300288',\n",
       "  'location': {'human_address': '{\"address\":\"\",\"city\":\"\",\"state\":\"\",\"zip\":\"\"}',\n",
       "   'latitude': '41.924300288',\n",
       "   'longitude': '-87.726612888',\n",
       "   'needs_recoding': False},\n",
       "  'location_description': 'STREET',\n",
       "  'longitude': '-87.726612888',\n",
       "  'primary_type': 'OTHER OFFENSE',\n",
       "  'updated_on': '2015-04-06T12:56:12',\n",
       "  'ward': '30',\n",
       "  'x_coordinate': '1149360',\n",
       "  'y_coordinate': '1915589',\n",
       "  'year': '2015'}]"
      ]
     },
     "execution_count": 8,
     "metadata": {},
     "output_type": "execute_result"
    }
   ],
   "source": [
    "crime"
   ]
  },
  {
   "cell_type": "code",
   "execution_count": 9,
   "metadata": {
    "collapsed": false
   },
   "outputs": [
    {
     "data": {
      "text/plain": [
       "{'age': '2', 'date': 'Tue, 07 Apr 2015 22:30:35 GMT', 'x-soda2-types': '[\"location\",\"text\",\"text\",\"number\",\"text\",\"calendar_date\",\"number\",\"checkbox\",\"text\",\"number\",\"number\",\"number\",\"text\",\"text\",\"meta_data\",\"text\",\"text\",\"checkbox\",\"number\",\"text\",\"calendar_date\",\"text\",\"meta_data\",\"number\",\"meta_data\"]', 'x-socrata-region': 'production', 'transfer-encoding': 'chunked', 'x-soda2-legacy-types': 'true', 'connection': 'keep-alive', 'x-soda2-fields': '[\"location\",\"primary_type\",\"block\",\"x_coordinate\",\"location_description\",\"date\",\"id\",\"arrest\",\"description\",\"y_coordinate\",\"year\",\"longitude\",\"district\",\"case_number\",\":updated_at\",\"beat\",\"iucr\",\"domestic\",\"ward\",\"fbi_code\",\"updated_on\",\"community_area\",\":id\",\"latitude\",\":created_at\"]', 'x-soda2-warning': 'X-SODA2-Fields, X-SODA2-Types, and X-SODA2-Legacy-Types are deprecated', 'last-modified': 'Mon, 06 Apr 2015 12:46:12 PDT', 'content-type': 'application/json; charset=utf-8', 'content-encoding': 'gzip', 'access-control-allow-origin': '*', 'server': 'nginx'}"
      ]
     },
     "execution_count": 9,
     "metadata": {},
     "output_type": "execute_result"
    }
   ],
   "source": [
    "response.headers"
   ]
  },
  {
   "cell_type": "code",
   "execution_count": 10,
   "metadata": {
    "collapsed": true
   },
   "outputs": [],
   "source": [
    "import pandas as pd"
   ]
  },
  {
   "cell_type": "code",
   "execution_count": 11,
   "metadata": {
    "collapsed": true
   },
   "outputs": [],
   "source": [
    "crime_frame = pd.read_json(response.text)"
   ]
  },
  {
   "cell_type": "code",
   "execution_count": 12,
   "metadata": {
    "collapsed": false
   },
   "outputs": [
    {
     "data": {
      "text/html": [
       "<div style=\"max-height:1000px;max-width:1500px;overflow:auto;\">\n",
       "<table border=\"1\" class=\"dataframe\">\n",
       "  <thead>\n",
       "    <tr style=\"text-align: right;\">\n",
       "      <th></th>\n",
       "      <th>arrest</th>\n",
       "      <th>beat</th>\n",
       "      <th>block</th>\n",
       "      <th>case_number</th>\n",
       "      <th>community_area</th>\n",
       "      <th>date</th>\n",
       "      <th>description</th>\n",
       "      <th>district</th>\n",
       "      <th>domestic</th>\n",
       "      <th>fbi_code</th>\n",
       "      <th>...</th>\n",
       "      <th>latitude</th>\n",
       "      <th>location</th>\n",
       "      <th>location_description</th>\n",
       "      <th>longitude</th>\n",
       "      <th>primary_type</th>\n",
       "      <th>updated_on</th>\n",
       "      <th>ward</th>\n",
       "      <th>x_coordinate</th>\n",
       "      <th>y_coordinate</th>\n",
       "      <th>year</th>\n",
       "    </tr>\n",
       "  </thead>\n",
       "  <tbody>\n",
       "    <tr>\n",
       "      <th>0</th>\n",
       "      <td>True</td>\n",
       "      <td>2525</td>\n",
       "      <td>023XX N PULASKI RD</td>\n",
       "      <td>HY204478</td>\n",
       "      <td>22</td>\n",
       "      <td>2015-03-30 23:55:00</td>\n",
       "      <td>PAROLE VIOLATION</td>\n",
       "      <td>25</td>\n",
       "      <td>False</td>\n",
       "      <td>26</td>\n",
       "      <td>...</td>\n",
       "      <td>41.9243</td>\n",
       "      <td>{'human_address': '{\"address\":\"\",\"city\":\"\",\"st...</td>\n",
       "      <td>STREET</td>\n",
       "      <td>-87.726613</td>\n",
       "      <td>OTHER OFFENSE</td>\n",
       "      <td>2015-04-06T12:56:12</td>\n",
       "      <td>30</td>\n",
       "      <td>1149360</td>\n",
       "      <td>1915589</td>\n",
       "      <td>2015</td>\n",
       "    </tr>\n",
       "  </tbody>\n",
       "</table>\n",
       "<p>1 rows × 22 columns</p>\n",
       "</div>"
      ],
      "text/plain": [
       "  arrest  beat               block case_number  community_area  \\\n",
       "0   True  2525  023XX N PULASKI RD    HY204478              22   \n",
       "\n",
       "                 date       description  district domestic  fbi_code  ...   \\\n",
       "0 2015-03-30 23:55:00  PAROLE VIOLATION        25    False        26  ...    \n",
       "\n",
       "   latitude                                           location  \\\n",
       "0   41.9243  {'human_address': '{\"address\":\"\",\"city\":\"\",\"st...   \n",
       "\n",
       "   location_description  longitude   primary_type           updated_on ward  \\\n",
       "0                STREET -87.726613  OTHER OFFENSE  2015-04-06T12:56:12   30   \n",
       "\n",
       "  x_coordinate  y_coordinate  year  \n",
       "0      1149360       1915589  2015  \n",
       "\n",
       "[1 rows x 22 columns]"
      ]
     },
     "execution_count": 12,
     "metadata": {},
     "output_type": "execute_result"
    }
   ],
   "source": [
    "crime_frame"
   ]
  },
  {
   "cell_type": "code",
   "execution_count": 14,
   "metadata": {
    "collapsed": false
   },
   "outputs": [],
   "source": [
    "trimmed = crime_frame.reindex(columns=['date', 'primary_type', 'community_area', 'arrest', 'domestic'])"
   ]
  },
  {
   "cell_type": "code",
   "execution_count": 15,
   "metadata": {
    "collapsed": false
   },
   "outputs": [
    {
     "data": {
      "text/html": [
       "<div style=\"max-height:1000px;max-width:1500px;overflow:auto;\">\n",
       "<table border=\"1\" class=\"dataframe\">\n",
       "  <thead>\n",
       "    <tr style=\"text-align: right;\">\n",
       "      <th></th>\n",
       "      <th>date</th>\n",
       "      <th>primary_type</th>\n",
       "      <th>community_area</th>\n",
       "      <th>arrest</th>\n",
       "      <th>domestic</th>\n",
       "    </tr>\n",
       "  </thead>\n",
       "  <tbody>\n",
       "    <tr>\n",
       "      <th>0</th>\n",
       "      <td>2015-03-30 23:55:00</td>\n",
       "      <td>OTHER OFFENSE</td>\n",
       "      <td>22</td>\n",
       "      <td>True</td>\n",
       "      <td>False</td>\n",
       "    </tr>\n",
       "  </tbody>\n",
       "</table>\n",
       "</div>"
      ],
      "text/plain": [
       "                 date   primary_type  community_area arrest domestic\n",
       "0 2015-03-30 23:55:00  OTHER OFFENSE              22   True    False"
      ]
     },
     "execution_count": 15,
     "metadata": {},
     "output_type": "execute_result"
    }
   ],
   "source": [
    "trimmed"
   ]
  },
  {
   "cell_type": "code",
   "execution_count": 17,
   "metadata": {
    "collapsed": false
   },
   "outputs": [],
   "source": [
    "trimmed.columns = ['Date', 'Primary Type', 'Community Area', 'Arrest', 'Domestic']"
   ]
  },
  {
   "cell_type": "code",
   "execution_count": 18,
   "metadata": {
    "collapsed": false
   },
   "outputs": [
    {
     "data": {
      "text/html": [
       "<div style=\"max-height:1000px;max-width:1500px;overflow:auto;\">\n",
       "<table border=\"1\" class=\"dataframe\">\n",
       "  <thead>\n",
       "    <tr style=\"text-align: right;\">\n",
       "      <th></th>\n",
       "      <th>Date</th>\n",
       "      <th>Primary Type</th>\n",
       "      <th>Community Area</th>\n",
       "      <th>Arrest</th>\n",
       "      <th>Domestic</th>\n",
       "    </tr>\n",
       "  </thead>\n",
       "  <tbody>\n",
       "    <tr>\n",
       "      <th>0</th>\n",
       "      <td>2015-03-30 23:55:00</td>\n",
       "      <td>OTHER OFFENSE</td>\n",
       "      <td>22</td>\n",
       "      <td>True</td>\n",
       "      <td>False</td>\n",
       "    </tr>\n",
       "  </tbody>\n",
       "</table>\n",
       "</div>"
      ],
      "text/plain": [
       "                 Date   Primary Type  Community Area Arrest Domestic\n",
       "0 2015-03-30 23:55:00  OTHER OFFENSE              22   True    False"
      ]
     },
     "execution_count": 18,
     "metadata": {},
     "output_type": "execute_result"
    }
   ],
   "source": [
    "trimmed"
   ]
  }
 ],
 "metadata": {
  "kernelspec": {
   "display_name": "Python 3",
   "language": "python",
   "name": "python3"
  },
  "language_info": {
   "codemirror_mode": {
    "name": "ipython",
    "version": 3
   },
   "file_extension": ".py",
   "mimetype": "text/x-python",
   "name": "python",
   "nbconvert_exporter": "python",
   "pygments_lexer": "ipython3",
   "version": "3.4.0"
  }
 },
 "nbformat": 4,
 "nbformat_minor": 0
}
