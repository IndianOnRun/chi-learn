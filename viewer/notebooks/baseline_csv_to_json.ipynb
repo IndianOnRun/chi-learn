{
 "cells": [
  {
   "cell_type": "code",
   "execution_count": 2,
   "metadata": {
    "collapsed": false
   },
   "outputs": [],
   "source": [
    "import csv"
   ]
  },
  {
   "cell_type": "code",
   "execution_count": 4,
   "metadata": {
    "collapsed": false
   },
   "outputs": [],
   "source": [
    "import json\n",
    "\n",
    "commAreaToCrimeRate = {}\n",
    "with open('../../config/baseline.csv') as input:\n",
    "    reader = csv.reader(input)\n",
    "    for line in reader:\n",
    "        commAreaToCrimeRate[line[0]] = line[1]\n",
    "\n",
    "with open('../json/baseline.json', 'w') as output:\n",
    "    json.dump(commAreaToCrimeRate, output)"
   ]
  },
  {
   "cell_type": "code",
   "execution_count": null,
   "metadata": {
    "collapsed": true
   },
   "outputs": [],
   "source": []
  }
 ],
 "metadata": {
  "kernelspec": {
   "display_name": "Python 3",
   "language": "python",
   "name": "python3"
  },
  "language_info": {
   "codemirror_mode": {
    "name": "ipython",
    "version": 3
   },
   "file_extension": ".py",
   "mimetype": "text/x-python",
   "name": "python",
   "nbconvert_exporter": "python",
   "pygments_lexer": "ipython3",
   "version": "3.4.0"
  }
 },
 "nbformat": 4,
 "nbformat_minor": 0
}
